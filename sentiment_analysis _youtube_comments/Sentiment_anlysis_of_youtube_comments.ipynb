{
 "cells": [
  {
   "cell_type": "markdown",
   "id": "a0c526fd",
   "metadata": {},
   "source": [
    "---  \n",
    "\n",
    " <img align=\"left\" width=\"85\" height=\"85\"  src=\"https://upload.wikimedia.org/wikipedia/en/c/c8/University_of_the_Punjab_logo.png\"> \n",
    "\n",
    "<h1 align=\"center\">Department of Data Science</h1>\n",
    "<h1 align=\"center\">Natural Language Processing</h1>\n",
    "\n",
    "\n",
    "---\n",
    "<h4><div align=\"right\">Instructor: Dr M. Khurram Shehzad</div></h4>  "
   ]
  },
  {
   "cell_type": "markdown",
   "id": "5362b6e2",
   "metadata": {},
   "source": [
    "<h1 align=\"center\">Sentiment Analysis of Comments of Youtube Video </h1>"
   ]
  },
  {
   "cell_type": "markdown",
   "id": "f2bfc5e0",
   "metadata": {},
   "source": [
    "<h4><div align=\"right\">Submitted by: Anisa Rehman  </div></h4> \n",
    "<h4><div align=\"right\">Roll No: msdsf21m518  </div></h4> "
   ]
  },
  {
   "cell_type": "markdown",
   "id": "180257b9",
   "metadata": {},
   "source": [
    "## Contents"
   ]
  },
  {
   "cell_type": "markdown",
   "id": "a24200ce",
   "metadata": {},
   "source": [
    "- **introduction**\n",
    "\n",
    "- **Machine Learning**\n",
    "- **Unigram features**                             \n",
    "- **Bigram features**\n",
    "- **Triigram features** \n",
    "\n",
    "- **Increased Negative Comments**\n",
    "- **corpus**\n",
    "- **Unigram features**\n",
    "- **Bigram features**\n",
    "- **Trigram features**\n",
    "- **Tfidf Features** \n",
    "\n",
    "-  **summary**"
   ]
  },
  {
   "cell_type": "markdown",
   "id": "2c3b603a",
   "metadata": {},
   "source": [
    "### The Sentiment Analysis problem\n",
    "\n",
    "\n",
    "> **Sentiment analysis is the process of understanding the opinion of an author about a\n",
    "subject**"
   ]
  },
  {
   "cell_type": "markdown",
   "id": "e6541f74",
   "metadata": {},
   "source": [
    "- Movies reviews\n",
    "- Amazon product reviews\n",
    "- Twitter airline sentiment\n"
   ]
  },
  {
   "cell_type": "markdown",
   "id": "45bef186",
   "metadata": {},
   "source": [
    "## Build new features from text"
   ]
  },
  {
   "cell_type": "markdown",
   "id": "50139888",
   "metadata": {},
   "source": [
    "\n",
    "When we have a sentiment analysis task,to solve with machine learning, having extra features usually results in a better model.\n"
   ]
  },
  {
   "cell_type": "markdown",
   "id": "d1d96e8c",
   "metadata": {},
   "source": [
    "some features say something about the complexity of the text column can be explored"
   ]
  },
  {
   "cell_type": "markdown",
   "id": "286f015b",
   "metadata": {},
   "source": [
    "> - How long is each sentence? (*review)\n",
    "> - how many sentences does it contain?\n",
    "> - What part of speech are involved?\n",
    "> - How many punctuation marks?\n",
    "> - how many positive  or negative sentences?\n",
    "> - parts of speech involved\n",
    "> - punctuation marks\n"
   ]
  },
  {
   "cell_type": "code",
   "execution_count": 162,
   "id": "f238d540",
   "metadata": {},
   "outputs": [],
   "source": [
    "# importing libraries"
   ]
  },
  {
   "cell_type": "code",
   "execution_count": 36,
   "id": "ea8d992c",
   "metadata": {},
   "outputs": [],
   "source": [
    "import pandas as pd\n",
    "import numpy as np\n",
    "\n",
    "import re\n",
    "import nltk\n",
    "\n",
    "from nltk.corpus import stopwords\n",
    "from nltk.stem.porter import PorterStemmer\n",
    "\n",
    "from sklearn.model_selection import train_test_split\n",
    "from sklearn.feature_extraction.text import CountVectorizer\n",
    "from sklearn.feature_extraction.text import TfidfVectorizer\n",
    "from sklearn.naive_bayes import GaussianNB\n",
    "from sklearn.svm import SVC\n",
    "from sklearn.tree import DecisionTreeClassifier\n",
    "from wordcloud import WordCloud\n",
    "from sklearn.metrics import precision_recall_fscore_support\n",
    "\n",
    "import matplotlib.pyplot as plt\n",
    "import contractions\n",
    "from sklearn.feature_extraction.text import ENGLISH_STOP_WORDS "
   ]
  },
  {
   "cell_type": "code",
   "execution_count": 37,
   "id": "b5be5e8f",
   "metadata": {},
   "outputs": [],
   "source": [
    " #Import scikit-learn metrics module for accuracy calculation\n",
    "from sklearn import metrics  \n"
   ]
  },
  {
   "cell_type": "code",
   "execution_count": 1,
   "id": "8e424096",
   "metadata": {},
   "outputs": [],
   "source": [
    "# importing data"
   ]
  },
  {
   "cell_type": "code",
   "execution_count": 38,
   "id": "dfd7d1f0",
   "metadata": {},
   "outputs": [],
   "source": [
    "dataset = pd.read_excel('sentences2_labeled.xlsx')"
   ]
  },
  {
   "cell_type": "code",
   "execution_count": 6,
   "id": "e18c7afd",
   "metadata": {},
   "outputs": [],
   "source": [
    "# positive and negative sentences"
   ]
  },
  {
   "cell_type": "code",
   "execution_count": 5,
   "id": "6985e440",
   "metadata": {},
   "outputs": [
    {
     "name": "stdout",
     "output_type": "stream",
     "text": [
      "Number of positive and negative reviews:  1    127\n",
      "0     73\n",
      "Name: labels, dtype: int64\n"
     ]
    }
   ],
   "source": [
    "print('Number of positive and negative reviews: ', dataset.labels.value_counts())"
   ]
  },
  {
   "cell_type": "code",
   "execution_count": 7,
   "id": "6c47b01e",
   "metadata": {},
   "outputs": [],
   "source": [
    "#Longest and shortest reviews"
   ]
  },
  {
   "cell_type": "code",
   "execution_count": 10,
   "id": "2b590bb2",
   "metadata": {},
   "outputs": [
    {
     "name": "stdout",
     "output_type": "stream",
     "text": [
      "469\n",
      "8\n"
     ]
    }
   ],
   "source": [
    "length_sen = dataset.comments.str.len()\n",
    "\n",
    "# How long is the longest review\n",
    "print(max(length_sen))\n",
    "\n",
    "print(min(length_sen))"
   ]
  },
  {
   "cell_type": "code",
   "execution_count": null,
   "id": "ba704904",
   "metadata": {},
   "outputs": [],
   "source": []
  },
  {
   "cell_type": "markdown",
   "id": "40fc4cd7",
   "metadata": {},
   "source": [
    "## wordcloud"
   ]
  },
  {
   "cell_type": "markdown",
   "id": "31c1e306",
   "metadata": {},
   "source": [
    "> A word cloud is an image composed of words with different sizes and colors. They can be especially useful in sentiment analysis.\n",
    "\n",
    "> Word cloudsare used across different  contexts. In the most common type of word clouds - and the one we will be using in this course - the size of the text corresponds to the frequency of the word. The more frequent a word is, the bigger and bolder it will appear on the word cloud."
   ]
  },
  {
   "cell_type": "markdown",
   "id": "e6fbb59d",
   "metadata": {},
   "source": [
    "**It contains stopwords,**"
   ]
  },
  {
   "cell_type": "code",
   "execution_count": 37,
   "id": "c7605f53",
   "metadata": {},
   "outputs": [],
   "source": [
    "with open('com.txt', 'w' ,encoding=\"utf-8\") as f:\n",
    "    f.writelines(dataset.comments)"
   ]
  },
  {
   "cell_type": "code",
   "execution_count": 38,
   "id": "0ddbe8cb",
   "metadata": {},
   "outputs": [],
   "source": [
    "com_list = open('com.txt', 'r+' , encoding= \"utf-8\")"
   ]
  },
  {
   "cell_type": "code",
   "execution_count": 39,
   "id": "82304df7",
   "metadata": {},
   "outputs": [],
   "source": [
    "text = com_list.readline()"
   ]
  },
  {
   "cell_type": "code",
   "execution_count": 40,
   "id": "c8b1f6e7",
   "metadata": {},
   "outputs": [],
   "source": [
    "tokens =text.split(' ')"
   ]
  },
  {
   "cell_type": "code",
   "execution_count": 57,
   "id": "84ae6f3b",
   "metadata": {},
   "outputs": [],
   "source": [
    "### WORDCLOUD"
   ]
  },
  {
   "cell_type": "code",
   "execution_count": 29,
   "id": "ba99cf9d",
   "metadata": {
    "scrolled": true
   },
   "outputs": [],
   "source": [
    "cc = WordCloud(background_color=\"black\").generate(str(tokens))"
   ]
  },
  {
   "cell_type": "code",
   "execution_count": 31,
   "id": "76f53b06",
   "metadata": {},
   "outputs": [],
   "source": [
    "plt.show()"
   ]
  },
  {
   "cell_type": "code",
   "execution_count": 33,
   "id": "71e516b0",
   "metadata": {
    "scrolled": true
   },
   "outputs": [
    {
     "data": {
      "text/plain": [
       "(-0.5, 399.5, 199.5, -0.5)"
      ]
     },
     "execution_count": 33,
     "metadata": {},
     "output_type": "execute_result"
    },
    {
     "data": {
      "image/png": "[encoded data removed]",
      "text/plain": [
       "<Figure size 432x288 with 1 Axes>"
      ]
     },
     "metadata": {
      "needs_background": "light"
     },
     "output_type": "display_data"
    }
   ],
   "source": [
    "plt.imshow(cc, interpolation='bilinear') \n",
    "plt.axis(\"off\")"
   ]
  },
  {
   "cell_type": "markdown",
   "id": "90b9c10f",
   "metadata": {},
   "source": [
    "As Stopwords are more frequent, so the real topic of discussion is suppressed."
   ]
  },
  {
   "cell_type": "markdown",
   "id": "30f413ee",
   "metadata": {},
   "source": [
    "### removing stopwords"
   ]
  },
  {
   "cell_type": "code",
   "execution_count": 42,
   "id": "60971796",
   "metadata": {},
   "outputs": [],
   "source": [
    "# creating an empty list\n",
    "expanded_words = []   \n",
    "for word in tokens:\n",
    "  # using contractions.fix to expand the shortened words\n",
    "  expanded_words.append(contractions.fix(word))"
   ]
  },
  {
   "cell_type": "code",
   "execution_count": 41,
   "id": "2094b021",
   "metadata": {},
   "outputs": [],
   "source": [
    "for i in range(len(tokens)):\n",
    "    tokens[i] = tokens[i].lower()"
   ]
  },
  {
   "cell_type": "code",
   "execution_count": 45,
   "id": "b6f34b7a",
   "metadata": {},
   "outputs": [],
   "source": [
    "tokens_without_stopwords = [word for word in tokens if not word in ENGLISH_STOP_WORDS]"
   ]
  },
  {
   "cell_type": "code",
   "execution_count": 46,
   "id": "59c4719e",
   "metadata": {
    "scrolled": true
   },
   "outputs": [
    {
     "data": {
      "image/png": "[encoded data removed]",
      "text/plain": [
       "<Figure size 432x288 with 1 Axes>"
      ]
     },
     "metadata": {
      "needs_background": "light"
     },
     "output_type": "display_data"
    }
   ],
   "source": [
    "my_cloud = WordCloud(background_color='white', stopwords=ENGLISH_STOP_WORDS).generate(str(tokens_without_stopwords))\n",
    "\n",
    "# Display the generated wordcloud image\n",
    "plt.imshow(my_cloud, interpolation='bilinear') \n",
    "plt.axis(\"off\")\n",
    "plt.show()"
   ]
  },
  {
   "cell_type": "markdown",
   "id": "8f4aca4b",
   "metadata": {},
   "source": [
    "Here it shows that most people are commenting about python, and complementing with thanks, hence they liked the video."
   ]
  },
  {
   "cell_type": "markdown",
   "id": "41320bde",
   "metadata": {},
   "source": [
    "<h1 align=\"center\">Machine Learning </h1>"
   ]
  },
  {
   "cell_type": "markdown",
   "id": "3ec5c9cf",
   "metadata": {},
   "source": [
    "#### corpus"
   ]
  },
  {
   "cell_type": "code",
   "execution_count": 4,
   "id": "73708884",
   "metadata": {},
   "outputs": [],
   "source": [
    "dataset = pd.read_excel('sentences2_labeled.xlsx')"
   ]
  },
  {
   "cell_type": "code",
   "execution_count": 3,
   "id": "e3f664d3",
   "metadata": {
    "scrolled": true
   },
   "outputs": [
    {
     "data": {
      "text/plain": [
       "(200, 3)"
      ]
     },
     "execution_count": 3,
     "metadata": {},
     "output_type": "execute_result"
    }
   ],
   "source": [
    "dataset.shape"
   ]
  },
  {
   "cell_type": "code",
   "execution_count": 5,
   "id": "b4abdfa7",
   "metadata": {
    "scrolled": true
   },
   "outputs": [
    {
     "data": {
      "text/html": [
       "<div>\n",
       "<style scoped>\n",
       "    .dataframe tbody tr th:only-of-type {\n",
       "        vertical-align: middle;\n",
       "    }\n",
       "\n",
       "    .dataframe tbody tr th {\n",
       "        vertical-align: top;\n",
       "    }\n",
       "\n",
       "    .dataframe thead th {\n",
       "        text-align: right;\n",
       "    }\n",
       "</style>\n",
       "<table border=\"1\" class=\"dataframe\">\n",
       "  <thead>\n",
       "    <tr style=\"text-align: right;\">\n",
       "      <th></th>\n",
       "      <th>index</th>\n",
       "      <th>comments</th>\n",
       "      <th>labels</th>\n",
       "    </tr>\n",
       "  </thead>\n",
       "  <tbody>\n",
       "    <tr>\n",
       "      <th>0</th>\n",
       "      <td>1</td>\n",
       "      <td>Is this coding for creating website or applic...</td>\n",
       "      <td>1</td>\n",
       "    </tr>\n",
       "    <tr>\n",
       "      <th>1</th>\n",
       "      <td>2</td>\n",
       "      <td>Awesome job, Mosh!!Learning for the data scie...</td>\n",
       "      <td>1</td>\n",
       "    </tr>\n",
       "    <tr>\n",
       "      <th>2</th>\n",
       "      <td>3</td>\n",
       "      <td>I watched your SQL course and it was amazing</td>\n",
       "      <td>1</td>\n",
       "    </tr>\n",
       "    <tr>\n",
       "      <th>3</th>\n",
       "      <td>4</td>\n",
       "      <td>Thank you for being so clear and concise with...</td>\n",
       "      <td>1</td>\n",
       "    </tr>\n",
       "    <tr>\n",
       "      <th>4</th>\n",
       "      <td>5</td>\n",
       "      <td>Most YouTube instructors, or instructors in g...</td>\n",
       "      <td>1</td>\n",
       "    </tr>\n",
       "  </tbody>\n",
       "</table>\n",
       "</div>"
      ],
      "text/plain": [
       "   index                                           comments  labels\n",
       "0      1   Is this coding for creating website or applic...       1\n",
       "1      2   Awesome job, Mosh!!Learning for the data scie...       1\n",
       "2      3       I watched your SQL course and it was amazing       1\n",
       "3      4   Thank you for being so clear and concise with...       1\n",
       "4      5   Most YouTube instructors, or instructors in g...       1"
      ]
     },
     "execution_count": 5,
     "metadata": {},
     "output_type": "execute_result"
    }
   ],
   "source": [
    "dataset.head()"
   ]
  },
  {
   "cell_type": "markdown",
   "id": "b5e94de0",
   "metadata": {},
   "source": [
    "#### How many positive and negative reviews"
   ]
  },
  {
   "cell_type": "markdown",
   "id": "4db3e490",
   "metadata": {},
   "source": [
    "Data Preprocessing"
   ]
  },
  {
   "cell_type": "code",
   "execution_count": 39,
   "id": "6e1e8b3d",
   "metadata": {},
   "outputs": [
    {
     "name": "stderr",
     "output_type": "stream",
     "text": [
      "[nltk_data] Downloading package stopwords to C:\\Users\\UNEESA\n",
      "[nltk_data]     REHMAN\\AppData\\Roaming\\nltk_data...\n",
      "[nltk_data]   Package stopwords is already up-to-date!\n"
     ]
    }
   ],
   "source": [
    "import re\n",
    "import nltk\n",
    "\n",
    "nltk.download('stopwords')\n",
    "\n",
    "from nltk.corpus import stopwords\n",
    "from nltk.stem.porter import PorterStemmer\n",
    "ps = PorterStemmer()\n",
    "\n",
    "all_stopwords = stopwords.words('english')\n",
    "all_stopwords.remove('not')"
   ]
  },
  {
   "cell_type": "code",
   "execution_count": 40,
   "id": "7c14c8b0",
   "metadata": {},
   "outputs": [],
   "source": [
    "corpus=[]\n",
    "\n",
    "for i in range(0, 200):\n",
    "  review = re.sub('[^a-zA-Z]', ' ', dataset['comments'][i])\n",
    "  review = review.lower()\n",
    "  review = review.split()\n",
    "  review = [ps.stem(word) for word in review if not word in set(all_stopwords)]\n",
    "  review = ' '.join(review)\n",
    "  corpus.append(review)"
   ]
  },
  {
   "cell_type": "code",
   "execution_count": 41,
   "id": "bb52da7b",
   "metadata": {},
   "outputs": [
    {
     "data": {
      "text/plain": [
       "['code creat websit applic program newbi say simplifi python point wholli interest',\n",
       " 'awesom job mosh learn data scienc realm',\n",
       " 'watch sql cours amaz',\n",
       " 'thank clear concis explan',\n",
       " 'youtub instructor instructor gener share someth certain way',\n",
       " 'feel job readi watch video',\n",
       " 'thank awesom',\n",
       " 'hi mosh thank much video curiou python super interest learn use mani field especi chosen degre',\n",
       " 'actual watch video could bit knowledg futur sinc python quit use mani area also job posit aim futur graduat',\n",
       " 'thank make certainli help lot peopl includ',\n",
       " 'hey mosh mathematician final interest world also discov video truli motiv learn python',\n",
       " 'watch whole thing',\n",
       " 'state beginn easi follow flow nice cover mani topic within hour',\n",
       " 'excel work',\n",
       " 'thank mosh amaz materi',\n",
       " 'pleas question use unit',\n",
       " 'upper solut third exercis superl instruct teach concept demonstr',\n",
       " 'includ error stroke geniu nuanc program languag difficult understand first show thing go wrong also show correct mistak',\n",
       " 'brilliant work',\n",
       " 'thank subscrib hell amaz easi understand realli love assign along way tri learn',\n",
       " 'realli help',\n",
       " 'idea python feel readi learn even',\n",
       " 'thank truth told cours pretti help gave realli nice quick revis python basic',\n",
       " 'thank like one good teacher lead student toward mistak teach someth could go wrong teach properli',\n",
       " 'love',\n",
       " 'minut alreadi realli appreci fact taken consider not everyon use mac use window',\n",
       " 'simpl thing often forgotten',\n",
       " 'brilliant',\n",
       " 'im amaz similar basic',\n",
       " 'well present',\n",
       " 'thank creat detail tutori beginn',\n",
       " 'learn want better job drive school bu',\n",
       " 'hey beauti simpl way teach',\n",
       " 'thank teach pythonthank amaz tutori',\n",
       " 'save month learn',\n",
       " 'million time better day code udemi class taught angela',\n",
       " 'much clearer concis especi not background',\n",
       " 'alway interest code never actual tri minut video practic learn first time alreadi learn fun thank much man hey mosh',\n",
       " 'first time python',\n",
       " 'made love',\n",
       " 'held python plough look back',\n",
       " 'amaz teacher',\n",
       " 'thank',\n",
       " 'teach magic never abl learn code video easilyi keep come back resourc go journey learn python',\n",
       " 'invalu sincer gratitud final find teacher explain python clear',\n",
       " 'thank loti cant believ spent hour watch practic tutori enjoy',\n",
       " 'love exercis section inspir',\n",
       " 'thank take time give tutori',\n",
       " 'honestli sir realli help understand python basic',\n",
       " 'thank muchbest tutori ever seen thank much full cours asapi beginn',\n",
       " 'first time start learn program',\n",
       " 'hope everyth go well video first sourc learn python thank mosh wonder easi learn python tutori',\n",
       " 'mosh explain everyth thoroughli never miss singl part',\n",
       " 'challeng us take learn past implement code',\n",
       " 'still middl cours say channel channel want learn code keep made happi could cri retak class involv learn python',\n",
       " 'struggl bad class',\n",
       " 'fail class put academ probat maintain higher',\n",
       " 'made super easi',\n",
       " 'know go pass class sure time',\n",
       " 'even show look wrong fantast',\n",
       " 'subscrib life sir',\n",
       " 'wonder mosh learn lot great thing hereproud say took note watch entir video',\n",
       " 'despit not know anyth code',\n",
       " 'learn lot',\n",
       " 'thank thank sir th std student difficult learn code made realli easya someon legit struggl year tri start learn python tri understand comprehend python technic made learn python whole lot easier digest compar self learn kaggl etc',\n",
       " 'thank bunch mosh make learn feel easier thank mosh simplifi way teach learn python program',\n",
       " 'wish atbit product lectur',\n",
       " 'thank realli impress python program inform given hour video without wast not minut time explain concept nice exampl',\n",
       " 'thank',\n",
       " 'man easi',\n",
       " 'time tri figur learn code simpli type python found video easiest breakdown could ever find',\n",
       " 'much appreci',\n",
       " 'complet noob',\n",
       " 'never code life outsid code app high school littl puzzl piec code softwar use',\n",
       " 'trash',\n",
       " 'appreci time put video us',\n",
       " 'excel tutori',\n",
       " 'interspers lesson immedi exampl wonder way teach',\n",
       " 'realli hit nail head',\n",
       " 'thank painstak effort',\n",
       " 'look forward tutori',\n",
       " 'best wish endeavour',\n",
       " 'okay love video',\n",
       " 'thank put great content togeth',\n",
       " 'im thank tutori sir mosh great tutori come',\n",
       " 'need catch first year comput scienc highschool',\n",
       " 'hi almost end video want let know grate amaz video',\n",
       " 'dive deep channel soon',\n",
       " 'teach skill next level',\n",
       " 'amaz introduct python bravo mosh',\n",
       " 'thank sir great video beginn realli appreci hard work realli love well made made variabl much easier understand make',\n",
       " 'complet everyth truli amaz like hour ago idea python see video start code python thank mosh',\n",
       " 'awesom teacher learn much thank',\n",
       " 'second year electr engin super conveni sinc teach python',\n",
       " 'engin prof alway best',\n",
       " 'tri learn python assess first time learn python',\n",
       " 'know still need learn much given good overview python thank',\n",
       " 'think straight forward jsstart learn python mosh youtub tutori',\n",
       " 'watch one hour one hour',\n",
       " 'mosh explain everyth crystal clear',\n",
       " 'realli prior knowledg program whole program world whatsoev',\n",
       " 'seem daunt',\n",
       " 'gotta say thank mosh start believ might abl actual make program world',\n",
       " 'amaz tutori beginn',\n",
       " 'thank share video',\n",
       " 'great content mosh look precis straightforward stuff',\n",
       " 'thank much want learn code python long',\n",
       " 'tutori ever taught',\n",
       " 'thank youuuuuu',\n",
       " 'thank use clear simpl',\n",
       " 'excel cours',\n",
       " 'distract crap',\n",
       " 'explain much eas comfort',\n",
       " 'make much sens everi minut hour hi mosh name dave powel learn python b c take algorithm code class next month',\n",
       " 'told class recommend',\n",
       " 'thank provid knowledg',\n",
       " 'take care',\n",
       " 'dpowellthank beginn cours find help sinc new learn code',\n",
       " 'fr yesterday start learn',\n",
       " 'easier u explain simpl way',\n",
       " 'thank u',\n",
       " 'tri code exercis final solv hr',\n",
       " 'thank much first program cours last week teacher didnt even teach us use python assum common knowledg like',\n",
       " 'like go battlefield without know use gun',\n",
       " 'love everi time say let show unlik teacher tri explain anyth good job remind high school day learn code basic mainfram lot concept thank video',\n",
       " 'want learn thank much mosh realli lift carrier wonder video dude',\n",
       " 'would watch like twenti minut come fun thing concept continu',\n",
       " 'great first video',\n",
       " 'hey mosh great tutor',\n",
       " 'would great post mani tutori pythonmosh pleas reveal code excercis',\n",
       " 'output meant look like mosh legend',\n",
       " 'um ah learn code year',\n",
       " 'prior video code knowledg could describ zero',\n",
       " 'realli set basic concept easi follow way abl paus go back take note etc made format perfect learn way asperg syndrom probabl adhd',\n",
       " 'familiar basic concept python excit start code play around follow anoth tutori',\n",
       " 'plan purchas hr python masteri cours offer still reduc price day get paid',\n",
       " 'wait learn python mosh',\n",
       " 'thank man',\n",
       " 'save time thank mosh realli love itcurr recov tbi struggl learn condit',\n",
       " 'video better digit book onlin school',\n",
       " 'thank effort',\n",
       " 'video help pass better familiar self withperson',\n",
       " 'struggl even harder vid',\n",
       " 'begin express thank amful support sir angl trade journey matricul high low liter like market',\n",
       " '',\n",
       " 'constantli upwel alway great interest program later softwar engin learn python web developmentyeah realli good teacher show differ uppercas lowercas definit definit concept import even space sometim difficult see spacingthi hour long cours great refresh step away need get back speed',\n",
       " 'awesom job',\n",
       " 'quick concis easili understood',\n",
       " 'thank mosh start today',\n",
       " 'great lectur help lot',\n",
       " 'dear friend tri interest code code trap system never end loop',\n",
       " 'hi thank video first time tri learn python learn css html',\n",
       " 'first exercis googl write condit statement output whether new patient not',\n",
       " 'know work case',\n",
       " 'tri get use util differ statement actual get work lol',\n",
       " 'sir keep level hard work teacher true word congrat got anoth activ love subscriberbest beginn tutori seen far',\n",
       " 'thank sir',\n",
       " 'want say thank',\n",
       " 'feel realli lucki given knowledg make happi see truli knowledg talent hardwork individu gener inform undoubtedli invest year much hard work abl get level understand even abl speak compet grasp',\n",
       " 'huge thank',\n",
       " 'amaz kind sir',\n",
       " 'help thank great content',\n",
       " 'thank million learn python web develop thank help start learn python great tutori thank enough mosh true legend spend great time free cours',\n",
       " 'definit inspir come gener ai lab desir code',\n",
       " 'amaz thank make valuabl videothank million time',\n",
       " 'privileg bless life forev grate',\n",
       " 'tought gcse teacher couldnt year hour',\n",
       " 'incred stuffhonestli amaz content time got statement made first program give differ respons user input',\n",
       " 'made realli easi wrap head around concept',\n",
       " 'think first depth program gonna choos adventur type deal',\n",
       " 'thank much',\n",
       " 'learn month python lessonsthank much great teach skill sr wow excel thank post thispython look simpl use',\n",
       " 'interest',\n",
       " 'great dynam voic',\n",
       " 'realli enjoy intro',\n",
       " 'thank great given want start career python programmingthank mosh wonder contributionthi take weight convert look pretti janki work feedback appreci done knowledg previou excers print kilogram pound convert far well explain python code beginn',\n",
       " 'thank hey dude shit thank take time teach rest us',\n",
       " 'im actual understand thing not excit futur see creat new found knowledg',\n",
       " 'hope long prosper career',\n",
       " 'thank moshhi done gw basic program year ago python quit close',\n",
       " 'far find pretti easi see write huge project come light',\n",
       " 'impress simpl effect explan thank lot effort made',\n",
       " 'anyon got start even though could use pycharm old version ask brother use said pycharm effici compar visual studio code',\n",
       " 'said would easier sinc got start not use pycharm',\n",
       " 'use want give advic comput scienc engin',\n",
       " 'guy made us save onlin python cours',\n",
       " 'thank god bless sir thank learn much video grate qualiti content put',\n",
       " 'hope good code yearim newbi learn python',\n",
       " 'want learn use game anim visual effect',\n",
       " 'specif video also subscrib',\n",
       " 'graduat bachelor month ago go appli master data analyt brush python amaz',\n",
       " 'thank much amaz tutori realli nice lesson concis yet still easi follow along thank',\n",
       " 'alway tell self need learn python',\n",
       " 'play video get bore sleep lol',\n",
       " 'not watch video mosh',\n",
       " 'love ur video keep focus',\n",
       " 'truli appreci',\n",
       " 'video great watch',\n",
       " 'hi mosh',\n",
       " 'first thank make amaz video']"
      ]
     },
     "execution_count": 41,
     "metadata": {},
     "output_type": "execute_result"
    }
   ],
   "source": [
    "corpus"
   ]
  },
  {
   "cell_type": "markdown",
   "id": "5dd6c0f0",
   "metadata": {},
   "source": [
    "### Data Transformation"
   ]
  },
  {
   "cell_type": "code",
   "execution_count": 42,
   "id": "8392c1b5",
   "metadata": {},
   "outputs": [],
   "source": [
    "cv = CountVectorizer(max_features = 100)"
   ]
  },
  {
   "cell_type": "code",
   "execution_count": 43,
   "id": "a753a230",
   "metadata": {},
   "outputs": [],
   "source": [
    "X = cv.fit_transform(corpus).toarray()\n",
    "y = dataset.iloc[:, -1].values"
   ]
  },
  {
   "cell_type": "markdown",
   "id": "e5af1fc2",
   "metadata": {},
   "source": [
    "### Dividing dataset into training and test set"
   ]
  },
  {
   "cell_type": "code",
   "execution_count": 44,
   "id": "4be49746",
   "metadata": {},
   "outputs": [],
   "source": [
    "from sklearn.model_selection import train_test_split\n",
    "X_train, X_test, y_train, y_test = train_test_split(X, y, test_size = 0.20, random_state = 0)"
   ]
  },
  {
   "cell_type": "markdown",
   "id": "d9e95c0c",
   "metadata": {},
   "source": [
    "<h1 align=\"center\">1 </h1>"
   ]
  },
  {
   "cell_type": "markdown",
   "id": "348e1a1e",
   "metadata": {},
   "source": [
    "#### Model fitting (Naive Bayes)"
   ]
  },
  {
   "cell_type": "code",
   "execution_count": 55,
   "id": "db48baf6",
   "metadata": {},
   "outputs": [
    {
     "data": {
      "text/plain": [
       "GaussianNB()"
      ]
     },
     "execution_count": 55,
     "metadata": {},
     "output_type": "execute_result"
    }
   ],
   "source": [
    "from sklearn.naive_bayes import GaussianNB\n",
    "classifier = GaussianNB()\n",
    "classifier.fit(X_train, y_train)"
   ]
  },
  {
   "cell_type": "markdown",
   "id": "c438154d",
   "metadata": {},
   "source": [
    "### Model performance\n"
   ]
  },
  {
   "cell_type": "code",
   "execution_count": 56,
   "id": "103dc389",
   "metadata": {},
   "outputs": [
    {
     "name": "stdout",
     "output_type": "stream",
     "text": [
      "[[20  3]\n",
      " [ 8  9]]\n"
     ]
    },
    {
     "data": {
      "text/plain": [
       "0.725"
      ]
     },
     "execution_count": 56,
     "metadata": {},
     "output_type": "execute_result"
    }
   ],
   "source": [
    "y_pred = classifier.predict(X_test)\n",
    "\n",
    "from sklearn.metrics import confusion_matrix, accuracy_score\n",
    "cm = confusion_matrix(y_test, y_pred)\n",
    "print(cm)\n",
    "\n",
    "accuracy_score(y_test, y_pred)"
   ]
  },
  {
   "cell_type": "code",
   "execution_count": null,
   "id": "5b715dd6",
   "metadata": {},
   "outputs": [],
   "source": []
  },
  {
   "cell_type": "markdown",
   "id": "fbe6da18",
   "metadata": {},
   "source": [
    "<h1 align=\"center\">2 </h1>"
   ]
  },
  {
   "cell_type": "markdown",
   "id": "0b9d50da",
   "metadata": {},
   "source": [
    "### Logistic Model "
   ]
  },
  {
   "cell_type": "code",
   "execution_count": 73,
   "id": "93c16db3",
   "metadata": {},
   "outputs": [],
   "source": [
    "vect = CountVectorizer(max_features=None)\n",
    "vect_fit = vect.fit(dataset.comments)"
   ]
  },
  {
   "cell_type": "code",
   "execution_count": 74,
   "id": "912ff74a",
   "metadata": {},
   "outputs": [
    {
     "name": "stdout",
     "output_type": "stream",
     "text": [
      "[[0 0 0 ... 0 0 0]\n",
      " [0 0 0 ... 0 0 0]\n",
      " [0 0 0 ... 0 0 0]\n",
      " ...\n",
      " [0 0 0 ... 0 0 0]\n",
      " [0 0 0 ... 0 0 0]\n",
      " [0 0 0 ... 0 0 0]]\n"
     ]
    }
   ],
   "source": [
    "# Create the bow representation\n",
    "bow = vect_fit.transform(dataset.comments)\n",
    "\n",
    "# Print the bag-of-words result \n",
    "print(bow.toarray())"
   ]
  },
  {
   "cell_type": "code",
   "execution_count": 75,
   "id": "5c6bf9ac",
   "metadata": {},
   "outputs": [],
   "source": [
    "X_df = pd.DataFrame(bow.toarray(), columns=vect.get_feature_names())"
   ]
  },
  {
   "cell_type": "code",
   "execution_count": 76,
   "id": "22120ab7",
   "metadata": {},
   "outputs": [
    {
     "data": {
      "text/html": [
       "<div>\n",
       "<style scoped>\n",
       "    .dataframe tbody tr th:only-of-type {\n",
       "        vertical-align: middle;\n",
       "    }\n",
       "\n",
       "    .dataframe tbody tr th {\n",
       "        vertical-align: top;\n",
       "    }\n",
       "\n",
       "    .dataframe thead th {\n",
       "        text-align: right;\n",
       "    }\n",
       "</style>\n",
       "<table border=\"1\" class=\"dataframe\">\n",
       "  <thead>\n",
       "    <tr style=\"text-align: right;\">\n",
       "      <th></th>\n",
       "      <th>able</th>\n",
       "      <th>about</th>\n",
       "      <th>academic</th>\n",
       "      <th>active</th>\n",
       "      <th>actually</th>\n",
       "      <th>adhd</th>\n",
       "      <th>adventure</th>\n",
       "      <th>advice</th>\n",
       "      <th>after</th>\n",
       "      <th>again</th>\n",
       "      <th>...</th>\n",
       "      <th>yearim</th>\n",
       "      <th>years</th>\n",
       "      <th>yesterday</th>\n",
       "      <th>yet</th>\n",
       "      <th>you</th>\n",
       "      <th>your</th>\n",
       "      <th>yours</th>\n",
       "      <th>youtube</th>\n",
       "      <th>youuuuuu</th>\n",
       "      <th>zero</th>\n",
       "    </tr>\n",
       "  </thead>\n",
       "  <tbody>\n",
       "    <tr>\n",
       "      <th>0</th>\n",
       "      <td>0</td>\n",
       "      <td>0</td>\n",
       "      <td>0</td>\n",
       "      <td>0</td>\n",
       "      <td>0</td>\n",
       "      <td>0</td>\n",
       "      <td>0</td>\n",
       "      <td>0</td>\n",
       "      <td>0</td>\n",
       "      <td>0</td>\n",
       "      <td>...</td>\n",
       "      <td>0</td>\n",
       "      <td>0</td>\n",
       "      <td>0</td>\n",
       "      <td>0</td>\n",
       "      <td>0</td>\n",
       "      <td>0</td>\n",
       "      <td>0</td>\n",
       "      <td>0</td>\n",
       "      <td>0</td>\n",
       "      <td>0</td>\n",
       "    </tr>\n",
       "    <tr>\n",
       "      <th>1</th>\n",
       "      <td>0</td>\n",
       "      <td>0</td>\n",
       "      <td>0</td>\n",
       "      <td>0</td>\n",
       "      <td>0</td>\n",
       "      <td>0</td>\n",
       "      <td>0</td>\n",
       "      <td>0</td>\n",
       "      <td>0</td>\n",
       "      <td>0</td>\n",
       "      <td>...</td>\n",
       "      <td>0</td>\n",
       "      <td>0</td>\n",
       "      <td>0</td>\n",
       "      <td>0</td>\n",
       "      <td>0</td>\n",
       "      <td>0</td>\n",
       "      <td>0</td>\n",
       "      <td>0</td>\n",
       "      <td>0</td>\n",
       "      <td>0</td>\n",
       "    </tr>\n",
       "    <tr>\n",
       "      <th>2</th>\n",
       "      <td>0</td>\n",
       "      <td>0</td>\n",
       "      <td>0</td>\n",
       "      <td>0</td>\n",
       "      <td>0</td>\n",
       "      <td>0</td>\n",
       "      <td>0</td>\n",
       "      <td>0</td>\n",
       "      <td>0</td>\n",
       "      <td>0</td>\n",
       "      <td>...</td>\n",
       "      <td>0</td>\n",
       "      <td>0</td>\n",
       "      <td>0</td>\n",
       "      <td>0</td>\n",
       "      <td>0</td>\n",
       "      <td>1</td>\n",
       "      <td>0</td>\n",
       "      <td>0</td>\n",
       "      <td>0</td>\n",
       "      <td>0</td>\n",
       "    </tr>\n",
       "    <tr>\n",
       "      <th>3</th>\n",
       "      <td>0</td>\n",
       "      <td>0</td>\n",
       "      <td>0</td>\n",
       "      <td>0</td>\n",
       "      <td>0</td>\n",
       "      <td>0</td>\n",
       "      <td>0</td>\n",
       "      <td>0</td>\n",
       "      <td>0</td>\n",
       "      <td>0</td>\n",
       "      <td>...</td>\n",
       "      <td>0</td>\n",
       "      <td>0</td>\n",
       "      <td>0</td>\n",
       "      <td>0</td>\n",
       "      <td>1</td>\n",
       "      <td>1</td>\n",
       "      <td>0</td>\n",
       "      <td>0</td>\n",
       "      <td>0</td>\n",
       "      <td>0</td>\n",
       "    </tr>\n",
       "    <tr>\n",
       "      <th>4</th>\n",
       "      <td>0</td>\n",
       "      <td>0</td>\n",
       "      <td>0</td>\n",
       "      <td>0</td>\n",
       "      <td>0</td>\n",
       "      <td>0</td>\n",
       "      <td>0</td>\n",
       "      <td>0</td>\n",
       "      <td>0</td>\n",
       "      <td>0</td>\n",
       "      <td>...</td>\n",
       "      <td>0</td>\n",
       "      <td>0</td>\n",
       "      <td>0</td>\n",
       "      <td>0</td>\n",
       "      <td>2</td>\n",
       "      <td>0</td>\n",
       "      <td>0</td>\n",
       "      <td>1</td>\n",
       "      <td>0</td>\n",
       "      <td>0</td>\n",
       "    </tr>\n",
       "    <tr>\n",
       "      <th>...</th>\n",
       "      <td>...</td>\n",
       "      <td>...</td>\n",
       "      <td>...</td>\n",
       "      <td>...</td>\n",
       "      <td>...</td>\n",
       "      <td>...</td>\n",
       "      <td>...</td>\n",
       "      <td>...</td>\n",
       "      <td>...</td>\n",
       "      <td>...</td>\n",
       "      <td>...</td>\n",
       "      <td>...</td>\n",
       "      <td>...</td>\n",
       "      <td>...</td>\n",
       "      <td>...</td>\n",
       "      <td>...</td>\n",
       "      <td>...</td>\n",
       "      <td>...</td>\n",
       "      <td>...</td>\n",
       "      <td>...</td>\n",
       "      <td>...</td>\n",
       "    </tr>\n",
       "    <tr>\n",
       "      <th>195</th>\n",
       "      <td>0</td>\n",
       "      <td>0</td>\n",
       "      <td>0</td>\n",
       "      <td>0</td>\n",
       "      <td>0</td>\n",
       "      <td>0</td>\n",
       "      <td>0</td>\n",
       "      <td>0</td>\n",
       "      <td>0</td>\n",
       "      <td>0</td>\n",
       "      <td>...</td>\n",
       "      <td>0</td>\n",
       "      <td>0</td>\n",
       "      <td>0</td>\n",
       "      <td>0</td>\n",
       "      <td>0</td>\n",
       "      <td>0</td>\n",
       "      <td>0</td>\n",
       "      <td>0</td>\n",
       "      <td>0</td>\n",
       "      <td>0</td>\n",
       "    </tr>\n",
       "    <tr>\n",
       "      <th>196</th>\n",
       "      <td>0</td>\n",
       "      <td>0</td>\n",
       "      <td>0</td>\n",
       "      <td>0</td>\n",
       "      <td>0</td>\n",
       "      <td>0</td>\n",
       "      <td>0</td>\n",
       "      <td>0</td>\n",
       "      <td>0</td>\n",
       "      <td>0</td>\n",
       "      <td>...</td>\n",
       "      <td>0</td>\n",
       "      <td>0</td>\n",
       "      <td>0</td>\n",
       "      <td>0</td>\n",
       "      <td>0</td>\n",
       "      <td>0</td>\n",
       "      <td>0</td>\n",
       "      <td>0</td>\n",
       "      <td>0</td>\n",
       "      <td>0</td>\n",
       "    </tr>\n",
       "    <tr>\n",
       "      <th>197</th>\n",
       "      <td>0</td>\n",
       "      <td>0</td>\n",
       "      <td>0</td>\n",
       "      <td>0</td>\n",
       "      <td>0</td>\n",
       "      <td>0</td>\n",
       "      <td>0</td>\n",
       "      <td>0</td>\n",
       "      <td>0</td>\n",
       "      <td>0</td>\n",
       "      <td>...</td>\n",
       "      <td>0</td>\n",
       "      <td>0</td>\n",
       "      <td>0</td>\n",
       "      <td>0</td>\n",
       "      <td>0</td>\n",
       "      <td>0</td>\n",
       "      <td>0</td>\n",
       "      <td>0</td>\n",
       "      <td>0</td>\n",
       "      <td>0</td>\n",
       "    </tr>\n",
       "    <tr>\n",
       "      <th>198</th>\n",
       "      <td>0</td>\n",
       "      <td>0</td>\n",
       "      <td>0</td>\n",
       "      <td>0</td>\n",
       "      <td>0</td>\n",
       "      <td>0</td>\n",
       "      <td>0</td>\n",
       "      <td>0</td>\n",
       "      <td>0</td>\n",
       "      <td>0</td>\n",
       "      <td>...</td>\n",
       "      <td>0</td>\n",
       "      <td>0</td>\n",
       "      <td>0</td>\n",
       "      <td>0</td>\n",
       "      <td>0</td>\n",
       "      <td>0</td>\n",
       "      <td>0</td>\n",
       "      <td>0</td>\n",
       "      <td>0</td>\n",
       "      <td>0</td>\n",
       "    </tr>\n",
       "    <tr>\n",
       "      <th>199</th>\n",
       "      <td>0</td>\n",
       "      <td>0</td>\n",
       "      <td>0</td>\n",
       "      <td>0</td>\n",
       "      <td>0</td>\n",
       "      <td>0</td>\n",
       "      <td>0</td>\n",
       "      <td>0</td>\n",
       "      <td>0</td>\n",
       "      <td>0</td>\n",
       "      <td>...</td>\n",
       "      <td>0</td>\n",
       "      <td>0</td>\n",
       "      <td>0</td>\n",
       "      <td>0</td>\n",
       "      <td>0</td>\n",
       "      <td>0</td>\n",
       "      <td>0</td>\n",
       "      <td>0</td>\n",
       "      <td>0</td>\n",
       "      <td>0</td>\n",
       "    </tr>\n",
       "  </tbody>\n",
       "</table>\n",
       "<p>200 rows × 780 columns</p>\n",
       "</div>"
      ],
      "text/plain": [
       "     able  about  academic  active  actually  adhd  adventure  advice  after  \\\n",
       "0       0      0         0       0         0     0          0       0      0   \n",
       "1       0      0         0       0         0     0          0       0      0   \n",
       "2       0      0         0       0         0     0          0       0      0   \n",
       "3       0      0         0       0         0     0          0       0      0   \n",
       "4       0      0         0       0         0     0          0       0      0   \n",
       "..    ...    ...       ...     ...       ...   ...        ...     ...    ...   \n",
       "195     0      0         0       0         0     0          0       0      0   \n",
       "196     0      0         0       0         0     0          0       0      0   \n",
       "197     0      0         0       0         0     0          0       0      0   \n",
       "198     0      0         0       0         0     0          0       0      0   \n",
       "199     0      0         0       0         0     0          0       0      0   \n",
       "\n",
       "     again  ...  yearim  years  yesterday  yet  you  your  yours  youtube  \\\n",
       "0        0  ...       0      0          0    0    0     0      0        0   \n",
       "1        0  ...       0      0          0    0    0     0      0        0   \n",
       "2        0  ...       0      0          0    0    0     1      0        0   \n",
       "3        0  ...       0      0          0    0    1     1      0        0   \n",
       "4        0  ...       0      0          0    0    2     0      0        1   \n",
       "..     ...  ...     ...    ...        ...  ...  ...   ...    ...      ...   \n",
       "195      0  ...       0      0          0    0    0     0      0        0   \n",
       "196      0  ...       0      0          0    0    0     0      0        0   \n",
       "197      0  ...       0      0          0    0    0     0      0        0   \n",
       "198      0  ...       0      0          0    0    0     0      0        0   \n",
       "199      0  ...       0      0          0    0    0     0      0        0   \n",
       "\n",
       "     youuuuuu  zero  \n",
       "0           0     0  \n",
       "1           0     0  \n",
       "2           0     0  \n",
       "3           0     0  \n",
       "4           0     0  \n",
       "..        ...   ...  \n",
       "195         0     0  \n",
       "196         0     0  \n",
       "197         0     0  \n",
       "198         0     0  \n",
       "199         0     0  \n",
       "\n",
       "[200 rows x 780 columns]"
      ]
     },
     "execution_count": 76,
     "metadata": {},
     "output_type": "execute_result"
    }
   ],
   "source": [
    "X_df"
   ]
  },
  {
   "cell_type": "code",
   "execution_count": 79,
   "id": "c8ff1d70",
   "metadata": {},
   "outputs": [],
   "source": [
    "sentiments = dataset.labels "
   ]
  },
  {
   "cell_type": "code",
   "execution_count": 80,
   "id": "df66928d",
   "metadata": {},
   "outputs": [
    {
     "data": {
      "text/plain": [
       "0      1\n",
       "1      1\n",
       "2      1\n",
       "3      1\n",
       "4      1\n",
       "      ..\n",
       "195    1\n",
       "196    1\n",
       "197    1\n",
       "198    1\n",
       "199    1\n",
       "Name: labels, Length: 200, dtype: int64"
      ]
     },
     "execution_count": 80,
     "metadata": {},
     "output_type": "execute_result"
    }
   ],
   "source": [
    "sentiments"
   ]
  },
  {
   "cell_type": "code",
   "execution_count": 81,
   "id": "49e278cb",
   "metadata": {},
   "outputs": [],
   "source": [
    "X_df.insert(0 , 'labels' , sentiments)"
   ]
  },
  {
   "cell_type": "code",
   "execution_count": 82,
   "id": "7c490003",
   "metadata": {},
   "outputs": [
    {
     "data": {
      "text/html": [
       "<div>\n",
       "<style scoped>\n",
       "    .dataframe tbody tr th:only-of-type {\n",
       "        vertical-align: middle;\n",
       "    }\n",
       "\n",
       "    .dataframe tbody tr th {\n",
       "        vertical-align: top;\n",
       "    }\n",
       "\n",
       "    .dataframe thead th {\n",
       "        text-align: right;\n",
       "    }\n",
       "</style>\n",
       "<table border=\"1\" class=\"dataframe\">\n",
       "  <thead>\n",
       "    <tr style=\"text-align: right;\">\n",
       "      <th></th>\n",
       "      <th>labels</th>\n",
       "      <th>able</th>\n",
       "      <th>about</th>\n",
       "      <th>academic</th>\n",
       "      <th>active</th>\n",
       "      <th>actually</th>\n",
       "      <th>adhd</th>\n",
       "      <th>adventure</th>\n",
       "      <th>advice</th>\n",
       "      <th>after</th>\n",
       "      <th>...</th>\n",
       "      <th>yearim</th>\n",
       "      <th>years</th>\n",
       "      <th>yesterday</th>\n",
       "      <th>yet</th>\n",
       "      <th>you</th>\n",
       "      <th>your</th>\n",
       "      <th>yours</th>\n",
       "      <th>youtube</th>\n",
       "      <th>youuuuuu</th>\n",
       "      <th>zero</th>\n",
       "    </tr>\n",
       "  </thead>\n",
       "  <tbody>\n",
       "    <tr>\n",
       "      <th>0</th>\n",
       "      <td>1</td>\n",
       "      <td>0</td>\n",
       "      <td>0</td>\n",
       "      <td>0</td>\n",
       "      <td>0</td>\n",
       "      <td>0</td>\n",
       "      <td>0</td>\n",
       "      <td>0</td>\n",
       "      <td>0</td>\n",
       "      <td>0</td>\n",
       "      <td>...</td>\n",
       "      <td>0</td>\n",
       "      <td>0</td>\n",
       "      <td>0</td>\n",
       "      <td>0</td>\n",
       "      <td>0</td>\n",
       "      <td>0</td>\n",
       "      <td>0</td>\n",
       "      <td>0</td>\n",
       "      <td>0</td>\n",
       "      <td>0</td>\n",
       "    </tr>\n",
       "    <tr>\n",
       "      <th>1</th>\n",
       "      <td>1</td>\n",
       "      <td>0</td>\n",
       "      <td>0</td>\n",
       "      <td>0</td>\n",
       "      <td>0</td>\n",
       "      <td>0</td>\n",
       "      <td>0</td>\n",
       "      <td>0</td>\n",
       "      <td>0</td>\n",
       "      <td>0</td>\n",
       "      <td>...</td>\n",
       "      <td>0</td>\n",
       "      <td>0</td>\n",
       "      <td>0</td>\n",
       "      <td>0</td>\n",
       "      <td>0</td>\n",
       "      <td>0</td>\n",
       "      <td>0</td>\n",
       "      <td>0</td>\n",
       "      <td>0</td>\n",
       "      <td>0</td>\n",
       "    </tr>\n",
       "    <tr>\n",
       "      <th>2</th>\n",
       "      <td>1</td>\n",
       "      <td>0</td>\n",
       "      <td>0</td>\n",
       "      <td>0</td>\n",
       "      <td>0</td>\n",
       "      <td>0</td>\n",
       "      <td>0</td>\n",
       "      <td>0</td>\n",
       "      <td>0</td>\n",
       "      <td>0</td>\n",
       "      <td>...</td>\n",
       "      <td>0</td>\n",
       "      <td>0</td>\n",
       "      <td>0</td>\n",
       "      <td>0</td>\n",
       "      <td>0</td>\n",
       "      <td>1</td>\n",
       "      <td>0</td>\n",
       "      <td>0</td>\n",
       "      <td>0</td>\n",
       "      <td>0</td>\n",
       "    </tr>\n",
       "    <tr>\n",
       "      <th>3</th>\n",
       "      <td>1</td>\n",
       "      <td>0</td>\n",
       "      <td>0</td>\n",
       "      <td>0</td>\n",
       "      <td>0</td>\n",
       "      <td>0</td>\n",
       "      <td>0</td>\n",
       "      <td>0</td>\n",
       "      <td>0</td>\n",
       "      <td>0</td>\n",
       "      <td>...</td>\n",
       "      <td>0</td>\n",
       "      <td>0</td>\n",
       "      <td>0</td>\n",
       "      <td>0</td>\n",
       "      <td>1</td>\n",
       "      <td>1</td>\n",
       "      <td>0</td>\n",
       "      <td>0</td>\n",
       "      <td>0</td>\n",
       "      <td>0</td>\n",
       "    </tr>\n",
       "    <tr>\n",
       "      <th>4</th>\n",
       "      <td>1</td>\n",
       "      <td>0</td>\n",
       "      <td>0</td>\n",
       "      <td>0</td>\n",
       "      <td>0</td>\n",
       "      <td>0</td>\n",
       "      <td>0</td>\n",
       "      <td>0</td>\n",
       "      <td>0</td>\n",
       "      <td>0</td>\n",
       "      <td>...</td>\n",
       "      <td>0</td>\n",
       "      <td>0</td>\n",
       "      <td>0</td>\n",
       "      <td>0</td>\n",
       "      <td>2</td>\n",
       "      <td>0</td>\n",
       "      <td>0</td>\n",
       "      <td>1</td>\n",
       "      <td>0</td>\n",
       "      <td>0</td>\n",
       "    </tr>\n",
       "    <tr>\n",
       "      <th>...</th>\n",
       "      <td>...</td>\n",
       "      <td>...</td>\n",
       "      <td>...</td>\n",
       "      <td>...</td>\n",
       "      <td>...</td>\n",
       "      <td>...</td>\n",
       "      <td>...</td>\n",
       "      <td>...</td>\n",
       "      <td>...</td>\n",
       "      <td>...</td>\n",
       "      <td>...</td>\n",
       "      <td>...</td>\n",
       "      <td>...</td>\n",
       "      <td>...</td>\n",
       "      <td>...</td>\n",
       "      <td>...</td>\n",
       "      <td>...</td>\n",
       "      <td>...</td>\n",
       "      <td>...</td>\n",
       "      <td>...</td>\n",
       "      <td>...</td>\n",
       "    </tr>\n",
       "    <tr>\n",
       "      <th>195</th>\n",
       "      <td>1</td>\n",
       "      <td>0</td>\n",
       "      <td>0</td>\n",
       "      <td>0</td>\n",
       "      <td>0</td>\n",
       "      <td>0</td>\n",
       "      <td>0</td>\n",
       "      <td>0</td>\n",
       "      <td>0</td>\n",
       "      <td>0</td>\n",
       "      <td>...</td>\n",
       "      <td>0</td>\n",
       "      <td>0</td>\n",
       "      <td>0</td>\n",
       "      <td>0</td>\n",
       "      <td>0</td>\n",
       "      <td>0</td>\n",
       "      <td>0</td>\n",
       "      <td>0</td>\n",
       "      <td>0</td>\n",
       "      <td>0</td>\n",
       "    </tr>\n",
       "    <tr>\n",
       "      <th>196</th>\n",
       "      <td>1</td>\n",
       "      <td>0</td>\n",
       "      <td>0</td>\n",
       "      <td>0</td>\n",
       "      <td>0</td>\n",
       "      <td>0</td>\n",
       "      <td>0</td>\n",
       "      <td>0</td>\n",
       "      <td>0</td>\n",
       "      <td>0</td>\n",
       "      <td>...</td>\n",
       "      <td>0</td>\n",
       "      <td>0</td>\n",
       "      <td>0</td>\n",
       "      <td>0</td>\n",
       "      <td>0</td>\n",
       "      <td>0</td>\n",
       "      <td>0</td>\n",
       "      <td>0</td>\n",
       "      <td>0</td>\n",
       "      <td>0</td>\n",
       "    </tr>\n",
       "    <tr>\n",
       "      <th>197</th>\n",
       "      <td>1</td>\n",
       "      <td>0</td>\n",
       "      <td>0</td>\n",
       "      <td>0</td>\n",
       "      <td>0</td>\n",
       "      <td>0</td>\n",
       "      <td>0</td>\n",
       "      <td>0</td>\n",
       "      <td>0</td>\n",
       "      <td>0</td>\n",
       "      <td>...</td>\n",
       "      <td>0</td>\n",
       "      <td>0</td>\n",
       "      <td>0</td>\n",
       "      <td>0</td>\n",
       "      <td>0</td>\n",
       "      <td>0</td>\n",
       "      <td>0</td>\n",
       "      <td>0</td>\n",
       "      <td>0</td>\n",
       "      <td>0</td>\n",
       "    </tr>\n",
       "    <tr>\n",
       "      <th>198</th>\n",
       "      <td>1</td>\n",
       "      <td>0</td>\n",
       "      <td>0</td>\n",
       "      <td>0</td>\n",
       "      <td>0</td>\n",
       "      <td>0</td>\n",
       "      <td>0</td>\n",
       "      <td>0</td>\n",
       "      <td>0</td>\n",
       "      <td>0</td>\n",
       "      <td>...</td>\n",
       "      <td>0</td>\n",
       "      <td>0</td>\n",
       "      <td>0</td>\n",
       "      <td>0</td>\n",
       "      <td>0</td>\n",
       "      <td>0</td>\n",
       "      <td>0</td>\n",
       "      <td>0</td>\n",
       "      <td>0</td>\n",
       "      <td>0</td>\n",
       "    </tr>\n",
       "    <tr>\n",
       "      <th>199</th>\n",
       "      <td>1</td>\n",
       "      <td>0</td>\n",
       "      <td>0</td>\n",
       "      <td>0</td>\n",
       "      <td>0</td>\n",
       "      <td>0</td>\n",
       "      <td>0</td>\n",
       "      <td>0</td>\n",
       "      <td>0</td>\n",
       "      <td>0</td>\n",
       "      <td>...</td>\n",
       "      <td>0</td>\n",
       "      <td>0</td>\n",
       "      <td>0</td>\n",
       "      <td>0</td>\n",
       "      <td>0</td>\n",
       "      <td>0</td>\n",
       "      <td>0</td>\n",
       "      <td>0</td>\n",
       "      <td>0</td>\n",
       "      <td>0</td>\n",
       "    </tr>\n",
       "  </tbody>\n",
       "</table>\n",
       "<p>200 rows × 781 columns</p>\n",
       "</div>"
      ],
      "text/plain": [
       "     labels  able  about  academic  active  actually  adhd  adventure  advice  \\\n",
       "0         1     0      0         0       0         0     0          0       0   \n",
       "1         1     0      0         0       0         0     0          0       0   \n",
       "2         1     0      0         0       0         0     0          0       0   \n",
       "3         1     0      0         0       0         0     0          0       0   \n",
       "4         1     0      0         0       0         0     0          0       0   \n",
       "..      ...   ...    ...       ...     ...       ...   ...        ...     ...   \n",
       "195       1     0      0         0       0         0     0          0       0   \n",
       "196       1     0      0         0       0         0     0          0       0   \n",
       "197       1     0      0         0       0         0     0          0       0   \n",
       "198       1     0      0         0       0         0     0          0       0   \n",
       "199       1     0      0         0       0         0     0          0       0   \n",
       "\n",
       "     after  ...  yearim  years  yesterday  yet  you  your  yours  youtube  \\\n",
       "0        0  ...       0      0          0    0    0     0      0        0   \n",
       "1        0  ...       0      0          0    0    0     0      0        0   \n",
       "2        0  ...       0      0          0    0    0     1      0        0   \n",
       "3        0  ...       0      0          0    0    1     1      0        0   \n",
       "4        0  ...       0      0          0    0    2     0      0        1   \n",
       "..     ...  ...     ...    ...        ...  ...  ...   ...    ...      ...   \n",
       "195      0  ...       0      0          0    0    0     0      0        0   \n",
       "196      0  ...       0      0          0    0    0     0      0        0   \n",
       "197      0  ...       0      0          0    0    0     0      0        0   \n",
       "198      0  ...       0      0          0    0    0     0      0        0   \n",
       "199      0  ...       0      0          0    0    0     0      0        0   \n",
       "\n",
       "     youuuuuu  zero  \n",
       "0           0     0  \n",
       "1           0     0  \n",
       "2           0     0  \n",
       "3           0     0  \n",
       "4           0     0  \n",
       "..        ...   ...  \n",
       "195         0     0  \n",
       "196         0     0  \n",
       "197         0     0  \n",
       "198         0     0  \n",
       "199         0     0  \n",
       "\n",
       "[200 rows x 781 columns]"
      ]
     },
     "execution_count": 82,
     "metadata": {},
     "output_type": "execute_result"
    }
   ],
   "source": [
    "X_df"
   ]
  },
  {
   "cell_type": "markdown",
   "id": "c50ff48b",
   "metadata": {},
   "source": [
    "# Logistic Regression"
   ]
  },
  {
   "cell_type": "markdown",
   "id": "f95fdf4f",
   "metadata": {},
   "source": [
    "The label column stores the sentiment, which is 1 when the review is positive, and 0 when negative. The text review has been transformed, using BOW, to numeric columns."
   ]
  },
  {
   "cell_type": "code",
   "execution_count": 85,
   "id": "e221fb14",
   "metadata": {},
   "outputs": [],
   "source": [
    "# Import the logistic regression\n",
    "from sklearn.linear_model import LogisticRegression\n",
    "\n",
    "# Define the vector of targets and matrix of features\n",
    "y = X_df.labels\n",
    "X = X_df.drop('labels', axis=1)"
   ]
  },
  {
   "cell_type": "code",
   "execution_count": 86,
   "id": "7c758117",
   "metadata": {},
   "outputs": [
    {
     "name": "stdout",
     "output_type": "stream",
     "text": [
      "Accuracy of logistic regression:  0.985\n"
     ]
    }
   ],
   "source": [
    "# Build a logistic regression model and calculate the accuracy\n",
    "log_reg = LogisticRegression().fit(X, y)\n",
    "print('Accuracy of logistic regression: ', log_reg.score(X, y))"
   ]
  },
  {
   "cell_type": "code",
   "execution_count": 88,
   "id": "dcc4e239",
   "metadata": {},
   "outputs": [
    {
     "name": "stdout",
     "output_type": "stream",
     "text": [
      "Accuracy on train set:  0.98125\n",
      "Accuracy on test set:  0.7\n"
     ]
    }
   ],
   "source": [
    "# Define the vector of labels and matrix of features\n",
    "y = X_df.labels\n",
    "X = X_df.drop('labels', axis=1)\n",
    "\n",
    "# Perform the train-test split\n",
    "X_train, X_test, y_train, y_test = train_test_split(X, y, test_size=0.2, random_state=42)\n",
    "\n",
    "# Build a logistic regression model and print out the accuracy\n",
    "log_reg = LogisticRegression().fit(X_train, y_train)\n",
    "print('Accuracy on train set: ', log_reg.score(X_train, y_train))\n",
    "print('Accuracy on test set: ', log_reg.score(X_test, y_test))"
   ]
  },
  {
   "cell_type": "code",
   "execution_count": 89,
   "id": "343a0b53",
   "metadata": {},
   "outputs": [
    {
     "name": "stdout",
     "output_type": "stream",
     "text": [
      "Accuracy score test set:  0.6833333333333333\n",
      "Confusion matrix test set: \n",
      " [[0.08333333 0.28333333]\n",
      " [0.03333333 0.6       ]]\n"
     ]
    }
   ],
   "source": [
    "# Split the data into training and testing sets\n",
    "X_train, X_test, y_train, y_test = train_test_split(X, y, test_size=0.3, random_state=123, stratify=y)\n",
    "\n",
    "# Train a logistic regression\n",
    "log_reg = LogisticRegression().fit(X_train, y_train)\n",
    "\n",
    "# Make predictions on the test set\n",
    "y_predicted = log_reg.predict(X_test)\n",
    " \n",
    "# Print the performance metrics\n",
    "print('Accuracy score test set: ', accuracy_score(y_test, y_predicted))\n",
    "print('Confusion matrix test set: \\n', confusion_matrix(y_test, y_predicted)/len(y_test))\n"
   ]
  },
  {
   "cell_type": "code",
   "execution_count": 90,
   "id": "de0b127f",
   "metadata": {},
   "outputs": [
    {
     "name": "stdout",
     "output_type": "stream",
     "text": [
      "Accuracy score of test data:  0.6666666666666666\n",
      "Confusion matrix of test data: \n",
      " [[0.16666667 0.18333333]\n",
      " [0.15       0.5       ]]\n"
     ]
    }
   ],
   "source": [
    "# Import the accuracy and confusion_matrix\n",
    "from sklearn.metrics import accuracy_score, confusion_matrix\n",
    "\n",
    "# Split the data into training and testing\n",
    "X_train, X_test, y_train, y_test = train_test_split(X, y, test_size=0.3, random_state=42)\n",
    "\n",
    "# Build a logistic regression\n",
    "log_reg = LogisticRegression().fit(X_train, y_train)\n",
    "\n",
    "# Predict the labels \n",
    "y_predict = log_reg.predict(X_test)\n",
    "\n",
    "# Print the performance metrics\n",
    "print('Accuracy score of test data: ', accuracy_score(y_test, y_predict))\n",
    "print('Confusion matrix of test data: \\n', confusion_matrix(y_test, y_predict)/len(y_test))\n"
   ]
  },
  {
   "cell_type": "markdown",
   "id": "2e19aac1",
   "metadata": {},
   "source": [
    "<h1 align=\"center\">3 </h1>"
   ]
  },
  {
   "cell_type": "markdown",
   "id": "0fc99530",
   "metadata": {},
   "source": [
    "## Decsion Tree"
   ]
  },
  {
   "cell_type": "code",
   "execution_count": 105,
   "id": "eae2dc70",
   "metadata": {},
   "outputs": [],
   "source": [
    "# Load libraries\n",
    "from sklearn.tree import DecisionTreeClassifier    \n",
    "# Import Decision Tree Classifier\n",
    "from sklearn.model_selection import train_test_split      \n",
    "# Import train_test_split function\n",
    "from sklearn import metrics   \n",
    "#Import scikit-learn metrics module for accuracy calculation"
   ]
  },
  {
   "cell_type": "code",
   "execution_count": 106,
   "id": "40748308",
   "metadata": {},
   "outputs": [],
   "source": [
    "#split dataset in features and target variable\n",
    "y = X_df.labels\n",
    "X = X_df.drop('labels', axis=1)"
   ]
  },
  {
   "cell_type": "code",
   "execution_count": 107,
   "id": "20d7c373",
   "metadata": {},
   "outputs": [],
   "source": [
    "# Split dataset into training set and test set\n",
    "X_train, X_test, y_train, y_test = train_test_split(X, y, test_size=0.3, random_state=1) \n",
    "# 70% training and 30% test\n"
   ]
  },
  {
   "cell_type": "code",
   "execution_count": 108,
   "id": "bf0d6c44",
   "metadata": {},
   "outputs": [],
   "source": [
    "# Create Decision Tree classifer object\n",
    "clf = DecisionTreeClassifier()\n",
    "\n",
    "# Train Decision Tree Classifer\n",
    "clf = clf.fit(X_train,y_train)\n",
    "\n",
    "#Predict the response for test dataset\n",
    "y_pred = clf.predict(X_test)\n"
   ]
  },
  {
   "cell_type": "code",
   "execution_count": 109,
   "id": "0fcdb1bc",
   "metadata": {},
   "outputs": [
    {
     "name": "stdout",
     "output_type": "stream",
     "text": [
      "Accuracy: 0.5166666666666667\n"
     ]
    }
   ],
   "source": [
    "# Model Accuracy, how often is the classifier correct?\n",
    "print(\"Accuracy:\",metrics.accuracy_score(y_test, y_pred))\n"
   ]
  },
  {
   "cell_type": "code",
   "execution_count": null,
   "id": "88c0a4ef",
   "metadata": {},
   "outputs": [],
   "source": []
  },
  {
   "cell_type": "code",
   "execution_count": 110,
   "id": "3d6c46eb",
   "metadata": {},
   "outputs": [
    {
     "name": "stdout",
     "output_type": "stream",
     "text": [
      "Accuracy: 0.5833333333333334\n"
     ]
    }
   ],
   "source": [
    "# Create Decision Tree classifer object\n",
    "clf = DecisionTreeClassifier(criterion=\"entropy\", max_depth=3)\n",
    "\n",
    "# Train Decision Tree Classifer\n",
    "clf = clf.fit(X_train,y_train)\n",
    "\n",
    "#Predict the response for test dataset\n",
    "y_pred = clf.predict(X_test)\n",
    "\n",
    "# Model Accuracy, how often is the classifier correct?\n",
    "print(\"Accuracy:\",metrics.accuracy_score(y_test, y_pred))\n"
   ]
  },
  {
   "cell_type": "markdown",
   "id": "30349eaa",
   "metadata": {},
   "source": [
    "<h1 align=\"center\">4 </h1>"
   ]
  },
  {
   "cell_type": "markdown",
   "id": "311b77f2",
   "metadata": {},
   "source": [
    "### SVM"
   ]
  },
  {
   "cell_type": "code",
   "execution_count": 111,
   "id": "00141789",
   "metadata": {},
   "outputs": [],
   "source": [
    "svm = SVC(kernel='linear')\n",
    "svm.fit(X_train, y_train)\n",
    "testPredictionsSVM = svm.predict(X_test)"
   ]
  },
  {
   "cell_type": "markdown",
   "id": "1fac8e54",
   "metadata": {},
   "source": [
    "#### performance"
   ]
  },
  {
   "cell_type": "code",
   "execution_count": 112,
   "id": "f7f33812",
   "metadata": {},
   "outputs": [
    {
     "name": "stdout",
     "output_type": "stream",
     "text": [
      "Macro: (0.5539152759948652, 0.5486111111111112, 0.546964663243733, None)\n"
     ]
    }
   ],
   "source": [
    "print (\"Macro:\",precision_recall_fscore_support(y_test,testPredictionsSVM, average='macro'))"
   ]
  },
  {
   "cell_type": "markdown",
   "id": "d0aad5ac",
   "metadata": {},
   "source": [
    "<h1 align=\"center\">Unigrams </h1>"
   ]
  },
  {
   "cell_type": "code",
   "execution_count": 4,
   "id": "522c8360",
   "metadata": {},
   "outputs": [],
   "source": [
    "X = np.array(dataset['comments'])\n",
    "y = np.array(dataset['labels'])"
   ]
  },
  {
   "cell_type": "code",
   "execution_count": 113,
   "id": "365163e5",
   "metadata": {},
   "outputs": [],
   "source": [
    "# spliiting test and train datasets"
   ]
  },
  {
   "cell_type": "code",
   "execution_count": 132,
   "id": "bba26219",
   "metadata": {},
   "outputs": [],
   "source": [
    "X_train, X_test, y_train, y_test = train_test_split(X, y, test_size=0.2)"
   ]
  },
  {
   "cell_type": "code",
   "execution_count": 133,
   "id": "cf078eed",
   "metadata": {},
   "outputs": [],
   "source": [
    "countVector = CountVectorizer(input='content',decode_error='ignore',analyzer='word', binary=False, ngram_range=(1,1)).fit(X)\n",
    "X_train_vectorized = countVector.transform(X_train).toarray() #feature matrix is generated\n",
    "X_test_vectorized = countVector.transform(X_test).toarray()"
   ]
  },
  {
   "cell_type": "markdown",
   "id": "caede349",
   "metadata": {},
   "source": [
    "### Naive Bayes Model with Unigram Features"
   ]
  },
  {
   "cell_type": "code",
   "execution_count": 96,
   "id": "8c6469a1",
   "metadata": {},
   "outputs": [],
   "source": [
    "naivebayes = GaussianNB()\n",
    "naivebayes.fit(X_train_vectorized, y_train)\n",
    "testPredictionsnaivebayes = naivebayes.predict(X_test_vectorized)"
   ]
  },
  {
   "cell_type": "code",
   "execution_count": 103,
   "id": "5003c991",
   "metadata": {},
   "outputs": [
    {
     "name": "stdout",
     "output_type": "stream",
     "text": [
      "Macro: (0.6777493606138107, 0.698005698005698, 0.6799999999999999, None)\n"
     ]
    }
   ],
   "source": [
    "print (\"Macro:\",precision_recall_fscore_support(y_test,testPredictionsnaivebayes, average='macro'))"
   ]
  },
  {
   "cell_type": "markdown",
   "id": "ebda4048",
   "metadata": {},
   "source": [
    "### SVM model with Unigram"
   ]
  },
  {
   "cell_type": "code",
   "execution_count": 99,
   "id": "37559245",
   "metadata": {},
   "outputs": [],
   "source": [
    "svm = SVC(kernel='linear')\n",
    "svm.fit(X_train_vectorized, y_train)\n",
    "testPredictionsSVM = svm.predict(X_test_vectorized)"
   ]
  },
  {
   "cell_type": "code",
   "execution_count": 102,
   "id": "11050215",
   "metadata": {},
   "outputs": [
    {
     "name": "stdout",
     "output_type": "stream",
     "text": [
      "Macro: (0.5770609318996416, 0.5612535612535612, 0.5611285266457681, None)\n"
     ]
    }
   ],
   "source": [
    "print (\"Macro:\",precision_recall_fscore_support(y_test,testPredictionsSVM, average='macro'))"
   ]
  },
  {
   "cell_type": "markdown",
   "id": "9bf802c3",
   "metadata": {},
   "source": [
    "### Decison Tree"
   ]
  },
  {
   "cell_type": "code",
   "execution_count": 134,
   "id": "7c71d07d",
   "metadata": {},
   "outputs": [],
   "source": [
    "# Create Decision Tree classifer object\n",
    "clf = DecisionTreeClassifier()\n",
    "\n",
    "# Train Decision Tree Classifer\n",
    "clf = clf.fit(X_train_vectorized,y_train)\n",
    "\n",
    "#Predict the response for test dataset\n",
    "y_pred = clf.predict(X_test_vectorized)\n"
   ]
  },
  {
   "cell_type": "code",
   "execution_count": 135,
   "id": "5b2204b1",
   "metadata": {},
   "outputs": [
    {
     "name": "stdout",
     "output_type": "stream",
     "text": [
      "Accuracy: 0.7\n"
     ]
    }
   ],
   "source": [
    "# Model Accuracy, how often is the classifier correct?\n",
    "print(\"Accuracy:\",metrics.accuracy_score(y_test, y_pred))\n"
   ]
  },
  {
   "cell_type": "code",
   "execution_count": null,
   "id": "219aabb5",
   "metadata": {},
   "outputs": [],
   "source": []
  },
  {
   "cell_type": "markdown",
   "id": "e56c8dce",
   "metadata": {},
   "source": [
    "<h3 align=\"center\">Bigram Features </h3>"
   ]
  },
  {
   "cell_type": "code",
   "execution_count": 136,
   "id": "ee953cba",
   "metadata": {},
   "outputs": [],
   "source": [
    "countVector = CountVectorizer(input='content',decode_error='ignore',analyzer='word', binary=False, ngram_range=(2,2)).fit(X)\n",
    "X_train_bigram = countVector.transform(X_train).toarray() #feature matrix is generated\n",
    "X_test_bigram = countVector.transform(X_test).toarray()"
   ]
  },
  {
   "cell_type": "code",
   "execution_count": 141,
   "id": "ee94e19b",
   "metadata": {},
   "outputs": [],
   "source": [
    "X_train, X_test, y_train, y_test = train_test_split(X, y, test_size=0.2)"
   ]
  },
  {
   "cell_type": "markdown",
   "id": "27f9599f",
   "metadata": {},
   "source": [
    "### SVM"
   ]
  },
  {
   "cell_type": "code",
   "execution_count": 138,
   "id": "a6ae472b",
   "metadata": {},
   "outputs": [],
   "source": [
    "svm = SVC(kernel='linear')\n",
    "svm.fit(X_train_bigram, y_train)\n",
    "testPredictionsSVMBigram = svm.predict(X_test_bigram)"
   ]
  },
  {
   "cell_type": "code",
   "execution_count": null,
   "id": "743e567e",
   "metadata": {},
   "outputs": [],
   "source": [
    "print (\"Macro:\",precision_recall_fscore_support(y_test,testPredictionsSVM, average='macro'))"
   ]
  },
  {
   "cell_type": "markdown",
   "id": "ec140d28",
   "metadata": {},
   "source": [
    "#### Naive Bayes"
   ]
  },
  {
   "cell_type": "code",
   "execution_count": 143,
   "id": "9c33b491",
   "metadata": {},
   "outputs": [],
   "source": [
    "naivebayes = GaussianNB()\n",
    "naivebayes.fit(X_train_bigram, y_train)\n",
    "testPredictionsnaivebayesbigram = naivebayes.predict(X_test_bigram)"
   ]
  },
  {
   "cell_type": "code",
   "execution_count": 145,
   "id": "1822c3e0",
   "metadata": {},
   "outputs": [
    {
     "name": "stdout",
     "output_type": "stream",
     "text": [
      "Macro: (0.48721227621483376, 0.48333333333333334, 0.46890286512928026, None)\n"
     ]
    }
   ],
   "source": [
    "print (\"Macro:\",precision_recall_fscore_support(y_test,testPredictionsnaivebayes, average='macro'))"
   ]
  },
  {
   "cell_type": "markdown",
   "id": "0083e3c8",
   "metadata": {},
   "source": [
    "###  Decision Tree"
   ]
  },
  {
   "cell_type": "code",
   "execution_count": 146,
   "id": "6e86f870",
   "metadata": {},
   "outputs": [],
   "source": [
    "# Create Decision Tree classifer object\n",
    "clf = DecisionTreeClassifier()\n",
    "\n",
    "# Train Decision Tree Classifer\n",
    "clf = clf.fit(X_train_bigram,y_train)\n",
    "\n",
    "#Predict the response for test dataset\n",
    "y_pred = clf.predict(X_test_bigram)\n"
   ]
  },
  {
   "cell_type": "code",
   "execution_count": 147,
   "id": "e5d57cc9",
   "metadata": {},
   "outputs": [
    {
     "name": "stdout",
     "output_type": "stream",
     "text": [
      "Accuracy: 0.325\n"
     ]
    }
   ],
   "source": [
    "# Model Accuracy, how often is the classifier correct?\n",
    "print(\"Accuracy:\",metrics.accuracy_score(y_test, y_pred))\n"
   ]
  },
  {
   "cell_type": "markdown",
   "id": "002e21ce",
   "metadata": {},
   "source": [
    "<h3 align=\"center\">Trigram Features </h3>"
   ]
  },
  {
   "cell_type": "code",
   "execution_count": 148,
   "id": "01240569",
   "metadata": {},
   "outputs": [],
   "source": [
    "countVector = CountVectorizer(input='content',decode_error='ignore',analyzer='word', binary=False, ngram_range=(3,3)).fit(X)\n",
    "X_train_trigram = countVector.transform(X_train).toarray() #feature matrix is generated\n",
    "X_test_trigram = countVector.transform(X_test).toarray()"
   ]
  },
  {
   "cell_type": "code",
   "execution_count": 149,
   "id": "08fcce86",
   "metadata": {},
   "outputs": [],
   "source": [
    "X_train, X_test, y_train, y_test = train_test_split(X, y, test_size=0.2)"
   ]
  },
  {
   "cell_type": "markdown",
   "id": "dff82954",
   "metadata": {},
   "source": [
    "### SVM"
   ]
  },
  {
   "cell_type": "code",
   "execution_count": 153,
   "id": "52f66a56",
   "metadata": {},
   "outputs": [],
   "source": [
    "svm = SVC(kernel='linear')\n",
    "svm.fit(X_train_trigram, y_train)\n",
    "testPredictionsSVMTrigram = svm.predict(X_test_trigram)"
   ]
  },
  {
   "cell_type": "code",
   "execution_count": null,
   "id": "5c2c1f1d",
   "metadata": {},
   "outputs": [],
   "source": [
    "print (\"Macro:\",precision_recall_fscore_support(y_test,testPredictionsSVMTrigram, average='macro')), binary=True"
   ]
  },
  {
   "cell_type": "markdown",
   "id": "82cb529c",
   "metadata": {},
   "source": [
    "### Naive Bayes"
   ]
  },
  {
   "cell_type": "code",
   "execution_count": 150,
   "id": "fa43a9cf",
   "metadata": {},
   "outputs": [],
   "source": [
    "naivebayes = GaussianNB()\n",
    "naivebayes.fit(X_train_trigram, y_train)\n",
    "testPredictionsnaivebayestrigram = naivebayes.predict(X_test_trigram)"
   ]
  },
  {
   "cell_type": "code",
   "execution_count": 151,
   "id": "e22c0fc4",
   "metadata": {},
   "outputs": [
    {
     "name": "stdout",
     "output_type": "stream",
     "text": [
      "Macro: (0.5250783699059561, 0.5208333333333334, 0.4666666666666667, None)\n"
     ]
    }
   ],
   "source": [
    "print (\"Macro:\",precision_recall_fscore_support(y_test,testPredictionsnaivebayestrigram, average='macro'))"
   ]
  },
  {
   "cell_type": "markdown",
   "id": "43561af3",
   "metadata": {},
   "source": [
    "### Decison Tree"
   ]
  },
  {
   "cell_type": "code",
   "execution_count": 155,
   "id": "84fd8ce1",
   "metadata": {},
   "outputs": [],
   "source": [
    "# Create Decision Tree classifer object\n",
    "clf = DecisionTreeClassifier()\n",
    "\n",
    "# Train Decision Tree Classifer\n",
    "clf = clf.fit(X_train_trigram,y_train)\n",
    "\n",
    "#Predict the response for test dataset\n",
    "y_pred = clf.predict(X_test_trigram)\n"
   ]
  },
  {
   "cell_type": "code",
   "execution_count": 156,
   "id": "ccbd4387",
   "metadata": {},
   "outputs": [
    {
     "name": "stdout",
     "output_type": "stream",
     "text": [
      "Accuracy: 0.6\n"
     ]
    }
   ],
   "source": [
    "# Model Accuracy, how often is the classifier correct?\n",
    "print(\"Accuracy:\",metrics.accuracy_score(y_test, y_pred))\n"
   ]
  },
  {
   "cell_type": "markdown",
   "id": "526f24ca",
   "metadata": {},
   "source": [
    "## TFIDF "
   ]
  },
  {
   "cell_type": "code",
   "execution_count": 3,
   "id": "c692d41e",
   "metadata": {},
   "outputs": [],
   "source": [
    "X = np.array(dataset['comments'])\n",
    "y = np.array(dataset['labels'])"
   ]
  },
  {
   "cell_type": "code",
   "execution_count": 4,
   "id": "ca505411",
   "metadata": {},
   "outputs": [],
   "source": [
    "X_train, X_test, y_train, y_test = train_test_split(X, y, test_size=0.2)"
   ]
  },
  {
   "cell_type": "code",
   "execution_count": 31,
   "id": "e3a29346",
   "metadata": {},
   "outputs": [],
   "source": [
    "vectorizer = TfidfVectorizer(max_features=250)\n",
    "X_train_tfidf = vectorizer.fit_transform(X_train).toarray()\n",
    "X_test_tfidf = vectorizer.fit_transform(X_test).toarray()"
   ]
  },
  {
   "cell_type": "markdown",
   "id": "7067fa7e",
   "metadata": {},
   "source": [
    "## Naive Bayes Model"
   ]
  },
  {
   "cell_type": "code",
   "execution_count": 32,
   "id": "53ddef81",
   "metadata": {},
   "outputs": [],
   "source": [
    "naivebayes = GaussianNB()\n",
    "naivebayes.fit(X_train_tfidf, y_train)\n",
    "testPredictionsnaivebayestfidf = naivebayes.predict(X_test_tfidf)"
   ]
  },
  {
   "cell_type": "code",
   "execution_count": 33,
   "id": "f69b11bb",
   "metadata": {
    "scrolled": true
   },
   "outputs": [
    {
     "name": "stdout",
     "output_type": "stream",
     "text": [
      "Macro: (0.5, 0.5, 0.4949494949494949, None)\n"
     ]
    }
   ],
   "source": [
    "print (\"Macro:\",precision_recall_fscore_support(y_test,testPredictionsnaivebayestfidf, average='macro'))"
   ]
  },
  {
   "cell_type": "markdown",
   "id": "95f45b7d",
   "metadata": {},
   "source": [
    "## SVM"
   ]
  },
  {
   "cell_type": "code",
   "execution_count": 34,
   "id": "2aac4d58",
   "metadata": {},
   "outputs": [],
   "source": [
    "svm = SVC(kernel='linear')\n",
    "svm.fit(X_train_tfidf, y_train)\n",
    "testPredictionsSVMTfidf = svm.predict(X_test_tfidf)"
   ]
  },
  {
   "cell_type": "code",
   "execution_count": 35,
   "id": "d5a98e23",
   "metadata": {},
   "outputs": [
    {
     "name": "stdout",
     "output_type": "stream",
     "text": [
      "Macro: (0.6125319693094629, 0.6145833333333333, 0.6131528046421664, None)\n"
     ]
    }
   ],
   "source": [
    "print (\"Macro:\",precision_recall_fscore_support(y_test,testPredictionsSVMTfidf, average='macro'))"
   ]
  },
  {
   "cell_type": "markdown",
   "id": "70464ad9",
   "metadata": {},
   "source": [
    "\n",
    "\n",
    "# Increasing number of negative comments to check results"
   ]
  },
  {
   "cell_type": "markdown",
   "id": "d29edbce",
   "metadata": {},
   "source": [
    ">  here 30 negative sentences are added, to make the difference between positive and negative setences less"
   ]
  },
  {
   "cell_type": "code",
   "execution_count": 45,
   "id": "48ac1a61",
   "metadata": {},
   "outputs": [],
   "source": [
    "### loading new dataset"
   ]
  },
  {
   "cell_type": "code",
   "execution_count": 47,
   "id": "d4a5226a",
   "metadata": {},
   "outputs": [],
   "source": [
    "dataset = pd.read_excel('sentences_balanced.xlsx')"
   ]
  },
  {
   "cell_type": "code",
   "execution_count": 48,
   "id": "afdb46cb",
   "metadata": {},
   "outputs": [
    {
     "name": "stdout",
     "output_type": "stream",
     "text": [
      "Number of positive and negative reviews:  1    127\n",
      "0    103\n",
      "Name: labels, dtype: int64\n"
     ]
    }
   ],
   "source": [
    "print('Number of positive and negative reviews: ', dataset.labels.value_counts())"
   ]
  },
  {
   "cell_type": "markdown",
   "id": "af4232a9",
   "metadata": {},
   "source": [
    "## Generating corpus"
   ]
  },
  {
   "cell_type": "code",
   "execution_count": 49,
   "id": "dd6b79af",
   "metadata": {},
   "outputs": [
    {
     "name": "stderr",
     "output_type": "stream",
     "text": [
      "[nltk_data] Downloading package stopwords to C:\\Users\\UNEESA\n",
      "[nltk_data]     REHMAN\\AppData\\Roaming\\nltk_data...\n",
      "[nltk_data]   Package stopwords is already up-to-date!\n"
     ]
    }
   ],
   "source": [
    "nltk.download('stopwords')\n",
    "\n",
    "ps = PorterStemmer()\n",
    "\n",
    "all_stopwords = stopwords.words('english')\n",
    "all_stopwords.remove('not')"
   ]
  },
  {
   "cell_type": "code",
   "execution_count": 50,
   "id": "a2695bea",
   "metadata": {},
   "outputs": [],
   "source": [
    "corpus=[]\n",
    "\n",
    "for i in range(0, 230):\n",
    "  review = re.sub('[^a-zA-Z]', ' ', dataset['comments'][i])\n",
    "  review = review.lower()\n",
    "  review = review.split()\n",
    "  review = [ps.stem(word) for word in review if not word in set(all_stopwords)]\n",
    "  review = ' '.join(review)\n",
    "  corpus.append(review)"
   ]
  },
  {
   "cell_type": "code",
   "execution_count": 51,
   "id": "b32d93de",
   "metadata": {},
   "outputs": [
    {
     "data": {
      "text/plain": [
       "['code creat websit applic program newbi say simplifi python point wholli interest',\n",
       " 'awesom job mosh learn data scienc realm',\n",
       " 'watch sql cours amaz',\n",
       " 'thank clear concis explan',\n",
       " 'youtub instructor instructor gener share someth certain way',\n",
       " 'feel job readi watch video',\n",
       " 'thank awesom',\n",
       " 'hi mosh thank much video curiou python super interest learn use mani field especi chosen degre',\n",
       " 'actual watch video could bit knowledg futur sinc python quit use mani area also job posit aim futur graduat',\n",
       " 'thank make certainli help lot peopl includ',\n",
       " 'hey mosh mathematician final interest world also discov video truli motiv learn python',\n",
       " 'watch whole thing',\n",
       " 'state beginn easi follow flow nice cover mani topic within hour',\n",
       " 'excel work',\n",
       " 'thank mosh amaz materi',\n",
       " 'pleas question use unit',\n",
       " 'upper solut third exercis superl instruct teach concept demonstr',\n",
       " 'includ error stroke geniu nuanc program languag difficult understand first show thing go wrong also show correct mistak',\n",
       " 'brilliant work',\n",
       " 'thank subscrib hell amaz easi understand realli love assign along way tri learn',\n",
       " 'realli help',\n",
       " 'idea python feel readi learn even',\n",
       " 'thank truth told cours pretti help gave realli nice quick revis python basic',\n",
       " 'thank like one good teacher lead student toward mistak teach someth could go wrong teach properli',\n",
       " 'love',\n",
       " 'minut alreadi realli appreci fact taken consider not everyon use mac use window',\n",
       " 'simpl thing often forgotten',\n",
       " 'brilliant',\n",
       " 'im amaz similar basic',\n",
       " 'well present',\n",
       " 'thank creat detail tutori beginn',\n",
       " 'learn want better job drive school bu',\n",
       " 'hey beauti simpl way teach',\n",
       " 'thank teach pythonthank amaz tutori',\n",
       " 'save month learn',\n",
       " 'million time better day code udemi class taught angela',\n",
       " 'much clearer concis especi not background',\n",
       " 'alway interest code never actual tri minut video practic learn first time alreadi learn fun thank much man hey mosh',\n",
       " 'first time python',\n",
       " 'made love',\n",
       " 'held python plough look back',\n",
       " 'amaz teacher',\n",
       " 'thank',\n",
       " 'teach magic never abl learn code video easilyi keep come back resourc go journey learn python',\n",
       " 'invalu sincer gratitud final find teacher explain python clear',\n",
       " 'thank loti cant believ spent hour watch practic tutori enjoy',\n",
       " 'love exercis section inspir',\n",
       " 'thank take time give tutori',\n",
       " 'honestli sir realli help understand python basic',\n",
       " 'thank muchbest tutori ever seen thank much full cours asapi beginn',\n",
       " 'first time start learn program',\n",
       " 'hope everyth go well video first sourc learn python thank mosh wonder easi learn python tutori',\n",
       " 'mosh explain everyth thoroughli never miss singl part',\n",
       " 'challeng us take learn past implement code',\n",
       " 'still middl cours say channel channel want learn code keep made happi could cri retak class involv learn python',\n",
       " 'struggl bad class',\n",
       " 'fail class put academ probat maintain higher',\n",
       " 'made super easi',\n",
       " 'know go pass class sure time',\n",
       " 'even show look wrong fantast',\n",
       " 'subscrib life sir',\n",
       " 'wonder mosh learn lot great thing hereproud say took note watch entir video',\n",
       " 'despit not know anyth code',\n",
       " 'learn lot',\n",
       " 'thank thank sir th std student difficult learn code made realli easya someon legit struggl year tri start learn python tri understand comprehend python technic made learn python whole lot easier digest compar self learn kaggl etc',\n",
       " 'thank bunch mosh make learn feel easier thank mosh simplifi way teach learn python program',\n",
       " 'wish atbit product lectur',\n",
       " 'thank realli impress python program inform given hour video without wast not minut time explain concept nice exampl',\n",
       " 'thank',\n",
       " 'man easi',\n",
       " 'time tri figur learn code simpli type python found video easiest breakdown could ever find',\n",
       " 'much appreci',\n",
       " 'complet noob',\n",
       " 'never code life outsid code app high school littl puzzl piec code softwar use',\n",
       " 'trash',\n",
       " 'appreci time put video us',\n",
       " 'excel tutori',\n",
       " 'interspers lesson immedi exampl wonder way teach',\n",
       " 'realli hit nail head',\n",
       " 'thank painstak effort',\n",
       " 'look forward tutori',\n",
       " 'best wish endeavour',\n",
       " 'okay love video',\n",
       " 'thank put great content togeth',\n",
       " 'im thank tutori sir mosh great tutori come',\n",
       " 'need catch first year comput scienc highschool',\n",
       " 'hi almost end video want let know grate amaz video',\n",
       " 'dive deep channel soon',\n",
       " 'teach skill next level',\n",
       " 'amaz introduct python bravo mosh',\n",
       " 'thank sir great video beginn realli appreci hard work realli love well made made variabl much easier understand make',\n",
       " 'complet everyth truli amaz like hour ago idea python see video start code python thank mosh',\n",
       " 'awesom teacher learn much thank',\n",
       " 'second year electr engin super conveni sinc teach python',\n",
       " 'engin prof alway best',\n",
       " 'tri learn python assess first time learn python',\n",
       " 'know still need learn much given good overview python thank',\n",
       " 'think straight forward jsstart learn python mosh youtub tutori',\n",
       " 'watch one hour one hour',\n",
       " 'mosh explain everyth crystal clear',\n",
       " 'realli prior knowledg program whole program world whatsoev',\n",
       " 'seem daunt',\n",
       " 'gotta say thank mosh start believ might abl actual make program world',\n",
       " 'amaz tutori beginn',\n",
       " 'thank share video',\n",
       " 'great content mosh look precis straightforward stuff',\n",
       " 'thank much want learn code python long',\n",
       " 'tutori ever taught',\n",
       " 'thank youuuuuu',\n",
       " 'thank use clear simpl',\n",
       " 'excel cours',\n",
       " 'distract crap',\n",
       " 'explain much eas comfort',\n",
       " 'make much sens everi minut hour hi mosh name dave powel learn python b c take algorithm code class next month',\n",
       " 'told class recommend',\n",
       " 'thank provid knowledg',\n",
       " 'take care',\n",
       " 'dpowellthank beginn cours find help sinc new learn code',\n",
       " 'fr yesterday start learn',\n",
       " 'easier u explain simpl way',\n",
       " 'thank u',\n",
       " 'tri code exercis final solv hr',\n",
       " 'thank much first program cours last week teacher didnt even teach us use python assum common knowledg like',\n",
       " 'like go battlefield without know use gun',\n",
       " 'love everi time say let show unlik teacher tri explain anyth good job remind high school day learn code basic mainfram lot concept thank video',\n",
       " 'want learn thank much mosh realli lift carrier wonder video dude',\n",
       " 'would watch like twenti minut come fun thing concept continu',\n",
       " 'great first video',\n",
       " 'hey mosh great tutor',\n",
       " 'would great post mani tutori pythonmosh pleas reveal code excercis',\n",
       " 'output meant look like mosh legend',\n",
       " 'um ah learn code year',\n",
       " 'prior video code knowledg could describ zero',\n",
       " 'realli set basic concept easi follow way abl paus go back take note etc made format perfect learn way asperg syndrom probabl adhd',\n",
       " 'familiar basic concept python excit start code play around follow anoth tutori',\n",
       " 'plan purchas hr python masteri cours offer still reduc price day get paid',\n",
       " 'wait learn python mosh',\n",
       " 'thank man',\n",
       " 'save time thank mosh realli love itcurr recov tbi struggl learn condit',\n",
       " 'video better digit book onlin school',\n",
       " 'thank effort',\n",
       " 'video help pass better familiar self withperson',\n",
       " 'struggl even harder vid',\n",
       " 'begin express thank amful support sir angl trade journey matricul high low liter like market',\n",
       " '',\n",
       " 'constantli upwel alway great interest program later softwar engin learn python web developmentyeah realli good teacher show differ uppercas lowercas definit definit concept import even space sometim difficult see spacingthi hour long cours great refresh step away need get back speed',\n",
       " 'awesom job',\n",
       " 'quick concis easili understood',\n",
       " 'thank mosh start today',\n",
       " 'great lectur help lot',\n",
       " 'dear friend tri interest code code trap system never end loop',\n",
       " 'hi thank video first time tri learn python learn css html',\n",
       " 'first exercis googl write condit statement output whether new patient not',\n",
       " 'know work case',\n",
       " 'tri get use util differ statement actual get work lol',\n",
       " 'sir keep level hard work teacher true word congrat got anoth activ love subscriberbest beginn tutori seen far',\n",
       " 'thank sir',\n",
       " 'want say thank',\n",
       " 'feel realli lucki given knowledg make happi see truli knowledg talent hardwork individu gener inform undoubtedli invest year much hard work abl get level understand even abl speak compet grasp',\n",
       " 'huge thank',\n",
       " 'amaz kind sir',\n",
       " 'help thank great content',\n",
       " 'thank million learn python web develop thank help start learn python great tutori thank enough mosh true legend spend great time free cours',\n",
       " 'definit inspir come gener ai lab desir code',\n",
       " 'amaz thank make valuabl videothank million time',\n",
       " 'privileg bless life forev grate',\n",
       " 'tought gcse teacher couldnt year hour',\n",
       " 'incred stuffhonestli amaz content time got statement made first program give differ respons user input',\n",
       " 'made realli easi wrap head around concept',\n",
       " 'think first depth program gonna choos adventur type deal',\n",
       " 'thank much',\n",
       " 'learn month python lessonsthank much great teach skill sr wow excel thank post thispython look simpl use',\n",
       " 'interest',\n",
       " 'great dynam voic',\n",
       " 'realli enjoy intro',\n",
       " 'thank great given want start career python programmingthank mosh wonder contributionthi take weight convert look pretti janki work feedback appreci done knowledg previou excers print kilogram pound convert far well explain python code beginn',\n",
       " 'thank hey dude shit thank take time teach rest us',\n",
       " 'im actual understand thing not excit futur see creat new found knowledg',\n",
       " 'hope long prosper career',\n",
       " 'thank moshhi done gw basic program year ago python quit close',\n",
       " 'far find pretti easi see write huge project come light',\n",
       " 'impress simpl effect explan thank lot effort made',\n",
       " 'anyon got start even though could use pycharm old version ask brother use said pycharm effici compar visual studio code',\n",
       " 'said would easier sinc got start not use pycharm',\n",
       " 'use want give advic comput scienc engin',\n",
       " 'guy made us save onlin python cours',\n",
       " 'thank god bless sir thank learn much video grate qualiti content put',\n",
       " 'hope good code yearim newbi learn python',\n",
       " 'want learn use game anim visual effect',\n",
       " 'specif video also subscrib',\n",
       " 'graduat bachelor month ago go appli master data analyt brush python amaz',\n",
       " 'thank much amaz tutori realli nice lesson concis yet still easi follow along thank',\n",
       " 'alway tell self need learn python',\n",
       " 'play video get bore sleep lol',\n",
       " 'not watch video mosh',\n",
       " 'love ur video keep focus',\n",
       " 'truli appreci',\n",
       " 'video great watch',\n",
       " 'hi mosh',\n",
       " 'first thank make amaz video',\n",
       " 'live near',\n",
       " 'sorri not mine',\n",
       " 'old man not actual right',\n",
       " 'not love play piano',\n",
       " 'peach orchard site build',\n",
       " 'not catch bu everi morn',\n",
       " 'alex tell truth',\n",
       " 'want drink much',\n",
       " 'get unhealthi food',\n",
       " 'hous',\n",
       " 'alex come movi busi',\n",
       " 'not lazi student',\n",
       " 'dont take trash',\n",
       " 'get pass grade work hard enough',\n",
       " 'not dwell dream forget live',\n",
       " 'teach cat trick',\n",
       " 'mine dog',\n",
       " 'not engin',\n",
       " 'dog cannot walk',\n",
       " 'not love',\n",
       " 'coat gave fit',\n",
       " 'father not even bother answer',\n",
       " 'play fire',\n",
       " 'not dinner tonight',\n",
       " 'go cinema',\n",
       " 'not singl person outsid',\n",
       " 'knock door',\n",
       " 'bag tabl not',\n",
       " 'come home earli today',\n",
       " 'mari cook cooki']"
      ]
     },
     "execution_count": 51,
     "metadata": {},
     "output_type": "execute_result"
    }
   ],
   "source": [
    "corpus"
   ]
  },
  {
   "cell_type": "code",
   "execution_count": null,
   "id": "7295c8ab",
   "metadata": {},
   "outputs": [],
   "source": []
  },
  {
   "cell_type": "code",
   "execution_count": 52,
   "id": "ca48f7af",
   "metadata": {},
   "outputs": [],
   "source": [
    "cv = CountVectorizer(max_features = 100)\n",
    "\n",
    "X = cv.fit_transform(corpus).toarray()\n",
    "y = dataset.iloc[:, -1].values"
   ]
  },
  {
   "cell_type": "code",
   "execution_count": 53,
   "id": "933c1c99",
   "metadata": {},
   "outputs": [],
   "source": [
    "X_train, X_test, y_train, y_test = train_test_split(X, y, test_size = 0.20, random_state = 0)"
   ]
  },
  {
   "cell_type": "markdown",
   "id": "ceac5762",
   "metadata": {},
   "source": [
    "## Naive Bayes model"
   ]
  },
  {
   "cell_type": "code",
   "execution_count": 54,
   "id": "203a6d42",
   "metadata": {},
   "outputs": [
    {
     "data": {
      "text/plain": [
       "GaussianNB()"
      ]
     },
     "execution_count": 54,
     "metadata": {},
     "output_type": "execute_result"
    }
   ],
   "source": [
    "#### guassian \n",
    "classifier = GaussianNB()\n",
    "classifier.fit(X_train, y_train)"
   ]
  },
  {
   "cell_type": "code",
   "execution_count": 55,
   "id": "8f3ae131",
   "metadata": {},
   "outputs": [
    {
     "name": "stdout",
     "output_type": "stream",
     "text": [
      "[[23  2]\n",
      " [10 11]]\n"
     ]
    },
    {
     "data": {
      "text/plain": [
       "0.7391304347826086"
      ]
     },
     "execution_count": 55,
     "metadata": {},
     "output_type": "execute_result"
    }
   ],
   "source": [
    "y_pred = classifier.predict(X_test)\n",
    "\n",
    "from sklearn.metrics import confusion_matrix, accuracy_score\n",
    "cm = confusion_matrix(y_test, y_pred)\n",
    "print(cm)\n",
    "\n",
    "accuracy_score(y_test, y_pred)"
   ]
  },
  {
   "cell_type": "code",
   "execution_count": 56,
   "id": "223a546d",
   "metadata": {},
   "outputs": [
    {
     "name": "stdout",
     "output_type": "stream",
     "text": [
      "[[0 0 0 ... 0 0 0]\n",
      " [0 0 0 ... 0 0 0]\n",
      " [0 0 0 ... 0 0 0]\n",
      " ...\n",
      " [0 0 0 ... 0 0 0]\n",
      " [0 0 0 ... 0 0 0]\n",
      " [0 0 0 ... 0 0 0]]\n"
     ]
    }
   ],
   "source": [
    "vect = CountVectorizer(max_features=None)\n",
    "vect_fit = vect.fit(corpus)\n",
    "\n",
    "# Create the bow representation\n",
    "bow = vect_fit.transform(corpus)\n",
    "\n",
    "# Print the bag-of-words result \n",
    "print(bow.toarray())"
   ]
  },
  {
   "cell_type": "code",
   "execution_count": 58,
   "id": "06ddb347",
   "metadata": {},
   "outputs": [],
   "source": [
    "X_df = pd.DataFrame(bow.toarray(), columns=vect.get_feature_names())\n",
    "\n",
    "sentiments = dataset.labels\n",
    "X_df.insert(0 , 'labels' , sentiments)"
   ]
  },
  {
   "cell_type": "code",
   "execution_count": 59,
   "id": "59941fef",
   "metadata": {},
   "outputs": [],
   "source": [
    "# Import the logistic regression\n",
    "from sklearn.linear_model import LogisticRegression\n",
    "\n",
    "# Define the vector of targets and matrix of features\n",
    "y = X_df.labels\n",
    "X = X_df.drop('labels', axis=1)\n"
   ]
  },
  {
   "cell_type": "markdown",
   "id": "9182aeee",
   "metadata": {},
   "source": [
    "## accuracy"
   ]
  },
  {
   "cell_type": "code",
   "execution_count": 60,
   "id": "e7f539b6",
   "metadata": {},
   "outputs": [
    {
     "name": "stdout",
     "output_type": "stream",
     "text": [
      "Accuracy of logistic regression:  0.9869565217391304\n"
     ]
    }
   ],
   "source": [
    "# Build a logistic regression model and calculate the accuracy\n",
    "log_reg = LogisticRegression().fit(X, y)\n",
    "print('Accuracy of logistic regression: ', log_reg.score(X, y))"
   ]
  },
  {
   "cell_type": "markdown",
   "id": "d74478a1",
   "metadata": {},
   "source": [
    "## Decision Tree Classifies"
   ]
  },
  {
   "cell_type": "code",
   "execution_count": 61,
   "id": "22b862f4",
   "metadata": {},
   "outputs": [],
   "source": [
    "#split dataset in features and target variable\n",
    "y = X_df.labels\n",
    "X = X_df.drop('labels', axis=1)"
   ]
  },
  {
   "cell_type": "code",
   "execution_count": 62,
   "id": "ba17d0b1",
   "metadata": {},
   "outputs": [],
   "source": [
    "# Create Decision Tree classifer object\n",
    "clf = DecisionTreeClassifier()\n",
    "\n",
    "# Train Decision Tree Classifer\n",
    "clf = clf.fit(X_train,y_train)\n",
    "\n",
    "#Predict the response for test dataset\n",
    "y_pred = clf.predict(X_test)\n"
   ]
  },
  {
   "cell_type": "code",
   "execution_count": 63,
   "id": "0a666db3",
   "metadata": {},
   "outputs": [
    {
     "name": "stdout",
     "output_type": "stream",
     "text": [
      "Accuracy: 0.6521739130434783\n"
     ]
    }
   ],
   "source": [
    "# Model Accuracy, how often is the classifier correct?\n",
    "print(\"Accuracy:\",metrics.accuracy_score(y_test, y_pred))\n"
   ]
  },
  {
   "cell_type": "code",
   "execution_count": null,
   "id": "5bebb68c",
   "metadata": {},
   "outputs": [],
   "source": []
  },
  {
   "cell_type": "markdown",
   "id": "9a1bffef",
   "metadata": {},
   "source": [
    "## SVM "
   ]
  },
  {
   "cell_type": "code",
   "execution_count": 64,
   "id": "0d807d7c",
   "metadata": {},
   "outputs": [],
   "source": [
    "svm = SVC(kernel='linear')\n",
    "svm.fit(X_train, y_train)\n",
    "testPredictionsSVM = svm.predict(X_test)"
   ]
  },
  {
   "cell_type": "code",
   "execution_count": 65,
   "id": "e27e2f52",
   "metadata": {},
   "outputs": [
    {
     "name": "stdout",
     "output_type": "stream",
     "text": [
      "Macro: (0.7402597402597402, 0.6761904761904762, 0.6349206349206349, None)\n"
     ]
    }
   ],
   "source": [
    "print (\"Macro:\",precision_recall_fscore_support(y_test,testPredictionsSVM, average='macro'))"
   ]
  },
  {
   "cell_type": "markdown",
   "id": "ce978dbc",
   "metadata": {},
   "source": [
    "## Generating unigram Features"
   ]
  },
  {
   "cell_type": "code",
   "execution_count": 66,
   "id": "b1a2b6a9",
   "metadata": {},
   "outputs": [],
   "source": [
    "X = np.array(dataset['comments'])\n",
    "y = np.array(dataset['labels'])"
   ]
  },
  {
   "cell_type": "code",
   "execution_count": 67,
   "id": "f5f9ae1e",
   "metadata": {},
   "outputs": [],
   "source": [
    "X_train, X_test, y_train, y_test = train_test_split(X, y, test_size=0.2)"
   ]
  },
  {
   "cell_type": "code",
   "execution_count": 68,
   "id": "ed2286ca",
   "metadata": {},
   "outputs": [],
   "source": [
    "countVector = CountVectorizer(input='content',decode_error='ignore',analyzer='word', binary=False, ngram_range=(1,1)).fit(X)\n",
    "X_train_vectorized = countVector.transform(X_train).toarray() #feature matrix is generated\n",
    "X_test_vectorized = countVector.transform(X_test).toarray()"
   ]
  },
  {
   "cell_type": "markdown",
   "id": "b98de9aa",
   "metadata": {},
   "source": [
    "## Naive Bayes Model"
   ]
  },
  {
   "cell_type": "code",
   "execution_count": 69,
   "id": "9631ae21",
   "metadata": {},
   "outputs": [],
   "source": [
    "naivebayes = GaussianNB()\n",
    "naivebayes.fit(X_train_vectorized, y_train)\n",
    "testPredictionsnaivebayes = naivebayes.predict(X_test_vectorized)"
   ]
  },
  {
   "cell_type": "code",
   "execution_count": 70,
   "id": "1fad76ba",
   "metadata": {},
   "outputs": [
    {
     "name": "stdout",
     "output_type": "stream",
     "text": [
      "Macro: (0.6145833333333333, 0.6072124756335282, 0.6080200501253132, None)\n"
     ]
    }
   ],
   "source": [
    "print (\"Macro:\",precision_recall_fscore_support(y_test,testPredictionsnaivebayes, average='macro'))"
   ]
  },
  {
   "cell_type": "markdown",
   "id": "28ce62bd",
   "metadata": {},
   "source": [
    "## SVM"
   ]
  },
  {
   "cell_type": "code",
   "execution_count": 71,
   "id": "0d2fa5c3",
   "metadata": {},
   "outputs": [],
   "source": [
    "svm = SVC(kernel='linear')\n",
    "svm.fit(X_train_vectorized, y_train)\n",
    "testPredictionsSVM = svm.predict(X_test_vectorized)"
   ]
  },
  {
   "cell_type": "code",
   "execution_count": 72,
   "id": "77c48ec6",
   "metadata": {},
   "outputs": [
    {
     "name": "stdout",
     "output_type": "stream",
     "text": [
      "Macro: (0.7165178571428572, 0.6890838206627681, 0.6928608115048793, None)\n"
     ]
    }
   ],
   "source": [
    "print (\"Macro:\",precision_recall_fscore_support(y_test,testPredictionsSVM, average='macro'))"
   ]
  },
  {
   "cell_type": "markdown",
   "id": "e30eb998",
   "metadata": {},
   "source": [
    "## Decision Tree"
   ]
  },
  {
   "cell_type": "code",
   "execution_count": 73,
   "id": "7318a97c",
   "metadata": {},
   "outputs": [],
   "source": [
    "# Create Decision Tree classifer object\n",
    "clf = DecisionTreeClassifier()\n",
    "\n",
    "# Train Decision Tree Classifer\n",
    "clf = clf.fit(X_train_vectorized,y_train)\n",
    "\n",
    "#Predict the response for test dataset\n",
    "y_pred = clf.predict(X_test_vectorized)\n"
   ]
  },
  {
   "cell_type": "code",
   "execution_count": 74,
   "id": "c5faa5f6",
   "metadata": {},
   "outputs": [
    {
     "name": "stdout",
     "output_type": "stream",
     "text": [
      "Accuracy: 0.717391304347826\n"
     ]
    }
   ],
   "source": [
    "# Model Accuracy, how often is the classifier correct?\n",
    "print(\"Accuracy:\",metrics.accuracy_score(y_test, y_pred))\n"
   ]
  },
  {
   "cell_type": "markdown",
   "id": "7fe8c0d1",
   "metadata": {},
   "source": [
    "## Generating Bigram Features"
   ]
  },
  {
   "cell_type": "code",
   "execution_count": 75,
   "id": "6f54d6e2",
   "metadata": {},
   "outputs": [],
   "source": [
    "countVector = CountVectorizer(input='content',decode_error='ignore',analyzer='word', binary=False, ngram_range=(2,2)).fit(X)\n",
    "X_train_vectorized = countVector.transform(X_train).toarray() #feature matrix is generated\n",
    "X_test_vectorized = countVector.transform(X_test).toarray()"
   ]
  },
  {
   "cell_type": "code",
   "execution_count": 76,
   "id": "4d118b74",
   "metadata": {},
   "outputs": [],
   "source": [
    "X_train, X_test, y_train, y_test = train_test_split(X, y, test_size=0.2)"
   ]
  },
  {
   "cell_type": "markdown",
   "id": "dffcef3d",
   "metadata": {},
   "source": [
    "## SVM"
   ]
  },
  {
   "cell_type": "code",
   "execution_count": 77,
   "id": "3da81598",
   "metadata": {},
   "outputs": [],
   "source": [
    "svm = SVC(kernel='linear')\n",
    "svm.fit(X_train_vectorized, y_train)\n",
    "testPredictionsSVMBigram = svm.predict(X_test_vectorized)"
   ]
  },
  {
   "cell_type": "code",
   "execution_count": 78,
   "id": "f6b923fe",
   "metadata": {},
   "outputs": [
    {
     "name": "stdout",
     "output_type": "stream",
     "text": [
      "Macro: (0.4731182795698925, 0.4746450304259635, 0.47291666666666665, None)\n"
     ]
    }
   ],
   "source": [
    "print (\"Macro:\",precision_recall_fscore_support(y_test,testPredictionsSVMBigram, average='macro'))"
   ]
  },
  {
   "cell_type": "markdown",
   "id": "1166bf8c",
   "metadata": {},
   "source": [
    "## Naive Bayes"
   ]
  },
  {
   "cell_type": "code",
   "execution_count": 79,
   "id": "de8191a0",
   "metadata": {},
   "outputs": [],
   "source": [
    "naivebayes = GaussianNB()\n",
    "naivebayes.fit(X_train_vectorized, y_train)\n",
    "testPredictionsnaivebayes = naivebayes.predict(X_test_vectorized)"
   ]
  },
  {
   "cell_type": "code",
   "execution_count": 80,
   "id": "a2509355",
   "metadata": {},
   "outputs": [
    {
     "name": "stdout",
     "output_type": "stream",
     "text": [
      "Macro: (0.5494505494505495, 0.5273833671399595, 0.4067460317460318, None)\n"
     ]
    }
   ],
   "source": [
    "print (\"Macro:\",precision_recall_fscore_support(y_test,testPredictionsnaivebayes, average='macro'))"
   ]
  },
  {
   "cell_type": "markdown",
   "id": "f0050d5b",
   "metadata": {},
   "source": [
    "## Generating Trigram Features"
   ]
  },
  {
   "cell_type": "code",
   "execution_count": 81,
   "id": "98ea7511",
   "metadata": {},
   "outputs": [],
   "source": [
    "countVector = CountVectorizer(input='content',decode_error='ignore',analyzer='word', binary=False, ngram_range=(3,3)).fit(X)\n",
    "X_train_vectorized = countVector.transform(X_train).toarray() #feature matrix is generated\n",
    "X_test_vectorized = countVector.transform(X_test).toarray()"
   ]
  },
  {
   "cell_type": "code",
   "execution_count": 82,
   "id": "7ea94c46",
   "metadata": {},
   "outputs": [],
   "source": [
    "X_train, X_test, y_train, y_test = train_test_split(X, y, test_size=0.2)"
   ]
  },
  {
   "cell_type": "markdown",
   "id": "f9160987",
   "metadata": {},
   "source": [
    "## SVM"
   ]
  },
  {
   "cell_type": "code",
   "execution_count": 83,
   "id": "16cb9ba7",
   "metadata": {},
   "outputs": [],
   "source": [
    "svm = SVC(kernel='linear')\n",
    "svm.fit(X_train_vectorized, y_train)\n",
    "testPredictionsSVMBigram = svm.predict(X_test_vectorized)"
   ]
  },
  {
   "cell_type": "code",
   "execution_count": 84,
   "id": "c7058921",
   "metadata": {},
   "outputs": [
    {
     "name": "stdout",
     "output_type": "stream",
     "text": [
      "Macro: (0.5113636363636364, 0.5018939393939394, 0.37990196078431376, None)\n"
     ]
    }
   ],
   "source": [
    "print (\"Macro:\",precision_recall_fscore_support(y_test,testPredictionsSVMBigram, average='macro'))"
   ]
  },
  {
   "cell_type": "markdown",
   "id": "330af14a",
   "metadata": {},
   "source": [
    "## Naive Bayes"
   ]
  },
  {
   "cell_type": "code",
   "execution_count": 85,
   "id": "28d18b4d",
   "metadata": {},
   "outputs": [],
   "source": [
    "naivebayes = GaussianNB()\n",
    "naivebayes.fit(X_train_vectorized, y_train)\n",
    "testPredictionsnaivebayes = naivebayes.predict(X_test_vectorized)"
   ]
  },
  {
   "cell_type": "code",
   "execution_count": 86,
   "id": "496ce062",
   "metadata": {
    "scrolled": true
   },
   "outputs": [
    {
     "name": "stdout",
     "output_type": "stream",
     "text": [
      "Macro: (0.3161764705882353, 0.35795454545454547, 0.31547619047619047, None)\n"
     ]
    }
   ],
   "source": [
    "print (\"Macro:\",precision_recall_fscore_support(y_test,testPredictionsnaivebayes, average='macro'))"
   ]
  },
  {
   "cell_type": "markdown",
   "id": "51c07ff9",
   "metadata": {},
   "source": [
    "# Generating Tfidf features"
   ]
  },
  {
   "cell_type": "code",
   "execution_count": 87,
   "id": "2bb1d276",
   "metadata": {},
   "outputs": [],
   "source": [
    "X = np.array(dataset['comments'])\n",
    "y = np.array(dataset['labels'])"
   ]
  },
  {
   "cell_type": "code",
   "execution_count": 89,
   "id": "bea5cefc",
   "metadata": {},
   "outputs": [],
   "source": [
    "vectorizer = TfidfVectorizer(max_features=200)\n",
    "X_train_tfidf = vectorizer.fit_transform(X_train).toarray()\n",
    "X_test_tfidf = vectorizer.fit_transform(X_test).toarray()"
   ]
  },
  {
   "cell_type": "code",
   "execution_count": 90,
   "id": "23dcb906",
   "metadata": {},
   "outputs": [],
   "source": [
    "X_train, X_test, y_train, y_test = train_test_split(X, y, test_size=0.2)"
   ]
  },
  {
   "cell_type": "markdown",
   "id": "0871fd74",
   "metadata": {},
   "source": [
    "## Naive Bayes Model"
   ]
  },
  {
   "cell_type": "code",
   "execution_count": 91,
   "id": "f4539b6f",
   "metadata": {},
   "outputs": [],
   "source": [
    "naivebayes = GaussianNB()\n",
    "naivebayes.fit(X_train_tfidf, y_train)\n",
    "testPredictionsnaivebayestfidf = naivebayes.predict(X_test_tfidf)"
   ]
  },
  {
   "cell_type": "code",
   "execution_count": 92,
   "id": "2300c16b",
   "metadata": {},
   "outputs": [
    {
     "name": "stdout",
     "output_type": "stream",
     "text": [
      "Macro: (0.5, 0.5, 0.4940219990435199, None)\n"
     ]
    }
   ],
   "source": [
    "print (\"Macro:\",precision_recall_fscore_support(y_test,testPredictionsnaivebayestfidf, average='macro'))"
   ]
  },
  {
   "cell_type": "markdown",
   "id": "163d2377",
   "metadata": {},
   "source": [
    "## SVM"
   ]
  },
  {
   "cell_type": "code",
   "execution_count": 93,
   "id": "3e4c2683",
   "metadata": {},
   "outputs": [],
   "source": [
    "svm = SVC(kernel='linear')\n",
    "svm.fit(X_train_tfidf, y_train)\n",
    "testPredictionsSVMTfidf = svm.predict(X_test_tfidf)"
   ]
  },
  {
   "cell_type": "code",
   "execution_count": 94,
   "id": "4f69de33",
   "metadata": {},
   "outputs": [
    {
     "name": "stdout",
     "output_type": "stream",
     "text": [
      "Macro: (0.5479166666666666, 0.5434782608695652, 0.532656023222061, None)\n"
     ]
    }
   ],
   "source": [
    "print (\"Macro:\",precision_recall_fscore_support(y_test,testPredictionsSVMTfidf, average='macro'))"
   ]
  },
  {
   "cell_type": "markdown",
   "id": "a91ffc78",
   "metadata": {},
   "source": [
    "# Summary"
   ]
  },
  {
   "cell_type": "markdown",
   "id": "bcdb2f76",
   "metadata": {},
   "source": [
    ">  -  logistic regression performend best with almost 70% accuracy on test dataset.\n",
    ">            - Naive Bayes accuracy is 70 % accurate\n",
    ">            - SVM and Decision Tree performance is upto 55% accurate\n",
    "   "
   ]
  },
  {
   "cell_type": "markdown",
   "id": "8830d01c",
   "metadata": {},
   "source": [
    ">    -  with unigram features \n",
    ">               - Decision tree gave 70% performance accuracy\n",
    ">               - Naive Bayes gave 67% performance accuracy\n",
    ">               - SVG performance is 57% accurate"
   ]
  },
  {
   "cell_type": "markdown",
   "id": "1b7f9e44",
   "metadata": {},
   "source": [
    ">    -  with bigram features \n",
    ">               - Decision tree gave 48% performance accuracy\n",
    ">               - Naive Bayes gave 32% performance accuracy"
   ]
  },
  {
   "cell_type": "markdown",
   "id": "baf60d26",
   "metadata": {},
   "source": [
    ">    -  with trigram features \n",
    ">               - Decision tree gave 60% performance  accurate\n",
    ">               - Naive Bayes gave 51% performance accurate"
   ]
  },
  {
   "cell_type": "markdown",
   "id": "545d4947",
   "metadata": {},
   "source": [
    ">    -  with tfidf features \n",
    ">               - SVM 61% performance  accurate\n",
    ">               - Naive Bayes gave 51% performance accurat0"
   ]
  },
  {
   "cell_type": "markdown",
   "id": "691a2366",
   "metadata": {},
   "source": [
    "## **Increased negative comments**"
   ]
  },
  {
   "cell_type": "markdown",
   "id": "bc9019b0",
   "metadata": {},
   "source": [
    ">    -  with corpus \n",
    ">               - SVM 74% performance  accurate\n",
    ">               - Naive Bayes gave 73% performance accurat\n",
    ">               - logistic model gave almost 90% accuracy\n",
    ">               - Decision tree gave 65% accurate result"
   ]
  },
  {
   "cell_type": "markdown",
   "id": "a76e1e21",
   "metadata": {},
   "source": [
    ">    -  with unigram features \n",
    ">               - Decision tree gave 71% performance accuracy\n",
    ">               - Naive Bayes gave 61% performance accuracy\n",
    ">               - SVM performance is 71% accurate"
   ]
  },
  {
   "cell_type": "markdown",
   "id": "16df9099",
   "metadata": {},
   "source": [
    ">    -  with bigram features \n",
    ">               - Naive Bayes gave 54% performance accuracy\n",
    ">               - SVM performance is 47% accurate"
   ]
  },
  {
   "cell_type": "markdown",
   "id": "3a85a2ed",
   "metadata": {},
   "source": [
    ">    -  with trigram features \n",
    ">               - Naive Bayes gave 31% performance accuracy\n",
    ">               - SVM performance is 51% accurate"
   ]
  },
  {
   "cell_type": "markdown",
   "id": "a0fc1887",
   "metadata": {},
   "source": [
    ">    -  with tfidf features \n",
    ">               - SVM 54% performance  accurate\n",
    ">               - Naive Bayes gave 50% performance accurat"
   ]
  },
  {
   "cell_type": "code",
   "execution_count": null,
   "id": "ecbaed30",
   "metadata": {},
   "outputs": [],
   "source": []
  }
 ],
 "metadata": {
  "kernelspec": {
   "display_name": "Python 3 (ipykernel)",
   "language": "python",
   "name": "python3"
  },
  "language_info": {
   "codemirror_mode": {
    "name": "ipython",
    "version": 3
   },
   "file_extension": ".py",
   "mimetype": "text/x-python",
   "name": "python",
   "nbconvert_exporter": "python",
   "pygments_lexer": "ipython3",
   "version": "3.9.7"
  }
 },
 "nbformat": 4,
 "nbformat_minor": 5
}
